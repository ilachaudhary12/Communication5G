{
  "cells": [
    {
      "cell_type": "markdown",
      "id": "11d223f3",
      "metadata": {
        "id": "11d223f3"
      },
      "source": [
        "# Constellation Learning in an AWGN Channel\n",
        "\n",
        "In this notebook, we will learn how to implement an end-to-end digital communication system as an `AutoEncoder`[1] and compared its performance with a `(n,k) Hamming Code`.\n",
        "\n",
        " * We analyze the performance of an autoencoder based modeling of a communication system as opposed to                  traditional modeling, where designing signal alphabet at transmitter (Tx) and detection algorithms at    receiver    (Rx) are based on a given mathematical/statistical channel/system model.\n",
        "\n",
        "\n",
        " * We simulate the performance of an AutoEncoder based communication link in the presence of Additive White Gaussian    Noise (AWGN), where Tx sends one out of ``M`` message/information symbols per `n` channel uses through a noisy      channel and the Rx estimates the transmitted symbols through noisy observations.\n",
        "\n",
        "\n",
        "* `The goal is to learn a signalling alphabet/constellation scheme that is robust with respect to the noise            introduced by the channel at Tx`\n",
        "\n",
        "\n",
        "\n",
        " ## Table of Contents\n",
        "\n",
        "* [Importing Libraries](#import-libraries)\n",
        "* [Parameters of AE](#AE-parameters)\n",
        "* [Training Data](#training-data-set)\n",
        "* [Testing Data](#testing-data-set)\n",
        "* [Normalization Functions](#norm-func)\n",
        "* [Defining AE Model](#AE-model)\n",
        "* [Training AE](#AE-training)\n",
        "* [Defining Tx, Channel and Rx from Trained AE](#individual-model)\n",
        "* [Constellation Learning](#constellation-learning)\n",
        "* [Block Error Rate (BLER) performance](#BLER)\n",
        "* [References](#ref)\n",
        "\n"
      ]
    },
    {
      "cell_type": "markdown",
      "id": "0542af65",
      "metadata": {
        "id": "0542af65"
      },
      "source": [
        "### PHY layer as AutoEncoder"
      ]
    },
    {
      "cell_type": "markdown",
      "id": "2d7adf74",
      "metadata": {
        "id": "2d7adf74"
      },
      "source": [
        "* The fundamental idea behind this tutorial is to model Physical Layer as an ``AutoEncoder``(AE).\n",
        "\n",
        "\n",
        "* An ``AutoEncoder``(AE) is an Artificial Neural Network (ANN) used to learn an efficient representation of data at   an intermediate layer to reproduce the input at its output.\n",
        "\n",
        "\n",
        "* We Interpret end to end communication link, i.e., Tx, channel, and Rx as a single Neural Network (NN) that can be   trained as an AE which reconstructs its input at its output, as communication is all about                           reproducing/reconstructing messages transmitted by Tx at Rx faithfully in the presence of channel perturbations     and Rx noise."
      ]
    },
    {
      "cell_type": "markdown",
      "id": "53b6df87",
      "metadata": {
        "id": "53b6df87"
      },
      "source": [
        "### Steps"
      ]
    },
    {
      "cell_type": "markdown",
      "id": "c8e89aa8",
      "metadata": {
        "id": "c8e89aa8"
      },
      "source": [
        "Following are the steps that we follow in simulation:\n",
        "\n",
        "* Define the hyper parameters of AE :\n",
        "    - number of information symbols `M`, where each symbol carry `k`bits\n",
        "    \n",
        "    - number of channel uses `n`\n",
        "    \n",
        "    - snr in dB at which AE is being trained, which we call `snr_train`\n",
        "    \n",
        "    \n",
        "    \n",
        "* Define embedings for each information symbol that is to be fed as an input to AE.\n",
        "\n",
        "\n",
        "* Define training and testing data set by randomizing the label\n",
        "\n",
        "\n",
        "* Define end to end AutoEncoder by using the already imported `keras` built in layers.\n",
        "\n",
        "    - Tx is being implmented as a stack of two keras `Dense` layers one with `ReLU` activation and another with           `linear` activation. The output of the second Dense layer is fed to a normalization layer which we implement         using keras `Lambda` layer.\n",
        "    \n",
        "    - Channel is implemented as a single `Noise` layer with certain noise standard deviation, which is a function of       both Rate of the code (R) and snr_train.\n",
        "    \n",
        "    - Rx also consists of two keras Dense layers, one with `ReLU` activation and the last one with `softmax`               activation. The last layer must output probabilities (i.e., for a given received noisy vector **v** of               dimension M, it outputs max aposteriori probability vector of dimension M, i.e.,                                     max(prob(**w**|**v**)) for any **w** belongs to transmitted oneshot embeddings)\n",
        "\n",
        "**Note:**  We choose different values of number of training (`N`) and testing samples (`N_test`) for constellation plots and for BlockErrorRate (BLER) plots.\n",
        "\n",
        "\n",
        "**Note:** For `(n,k) = (7,4)`, we use `sklearn T-distributed Stochastic Neighbor Embedding (TSNE)` to plot the learned constellation. Typically we use less number of `N` and `N_test` in such cases.\n",
        "For BLER plots we always go with high values of `N`, `N_test`   "
      ]
    },
    {
      "cell_type": "markdown",
      "id": "fe2a8e66",
      "metadata": {
        "id": "fe2a8e66"
      },
      "source": [
        "![title](img/autoencoder.png)"
      ]
    },
    {
      "cell_type": "markdown",
      "id": "d4d19db8",
      "metadata": {
        "id": "d4d19db8"
      },
      "source": [
        "## Importing Libraries"
      ]
    },
    {
      "cell_type": "code",
      "execution_count": null,
      "id": "89d74c54",
      "metadata": {
        "id": "89d74c54"
      },
      "outputs": [],
      "source": [
        "import os\n",
        "os.environ[\"CUDA_VISIBLE_DEVICES\"] = \"-1\"\n",
        "os.environ['TF_CPP_MIN_LOG_LEVEL'] = '3'\n",
        "\n",
        "\n",
        "# Importing necessary Numpy, Matplotlib, TensorFlow, Keras and scikit-learn modules\n",
        "# %matplotlib widget\n",
        "# %matplotlib inline\n",
        "import matplotlib.pyplot as plt\n",
        "import numpy as np\n",
        "import tensorflow as tf\n",
        "from keras.layers import Input, Dense, GaussianNoise, Lambda, BatchNormalization\n",
        "from keras.models import Model\n",
        "from keras.optimizers import Adam, SGD\n",
        "from keras import backend as be"
      ]
    },
    {
      "cell_type": "code",
      "execution_count": null,
      "id": "5jSe98sD7YMy",
      "metadata": {
        "id": "5jSe98sD7YMy"
      },
      "outputs": [],
      "source": [
        "#!git clone https://github.com/GigayasaWireless/toolkit5G"
      ]
    },
    {
      "cell_type": "code",
      "execution_count": null,
      "id": "8lwJuKxB-CiO",
      "metadata": {
        "id": "8lwJuKxB-CiO",
        "colab": {
          "base_uri": "https://localhost:8080/"
        },
        "outputId": "f205c667-bbe3-489c-e4b5-f038edf05b11"
      },
      "outputs": [
        {
          "output_type": "stream",
          "name": "stdout",
          "text": [
            "fatal: destination path 'toolkit5G' already exists and is not an empty directory.\n"
          ]
        }
      ],
      "source": [
        "!git clone --branch website https://github.com/GigayasaWireless/toolkit5G.git\n"
      ]
    },
    {
      "cell_type": "code",
      "execution_count": null,
      "id": "zJRdHc88B7TD",
      "metadata": {
        "colab": {
          "base_uri": "https://localhost:8080/"
        },
        "id": "zJRdHc88B7TD",
        "outputId": "ffc7b327-6e5b-4c05-d0f3-da70d55d8e32"
      },
      "outputs": [
        {
          "name": "stdout",
          "output_type": "stream",
          "text": [
            "--2024-10-28 07:43:41--  https://github.com/GigayasaWireless/toolkit5G/archive/refs/heads/website.zip\n",
            "Resolving github.com (github.com)... 140.82.113.4\n",
            "Connecting to github.com (github.com)|140.82.113.4|:443... connected.\n",
            "HTTP request sent, awaiting response... 302 Found\n",
            "Location: https://codeload.github.com/GigayasaWireless/toolkit5G/zip/refs/heads/website [following]\n",
            "--2024-10-28 07:43:41--  https://codeload.github.com/GigayasaWireless/toolkit5G/zip/refs/heads/website\n",
            "Resolving codeload.github.com (codeload.github.com)... 140.82.112.9\n",
            "Connecting to codeload.github.com (codeload.github.com)|140.82.112.9|:443... connected.\n",
            "HTTP request sent, awaiting response... 200 OK\n",
            "Length: unspecified [application/zip]\n",
            "Saving to: ‘toolkit5G.zip’\n",
            "\n",
            "toolkit5G.zip           [               <=>  ] 267.64M  14.1MB/s    in 16s     \n",
            "\n",
            "2024-10-28 07:43:58 (16.4 MB/s) - ‘toolkit5G.zip’ saved [280643619]\n",
            "\n"
          ]
        }
      ],
      "source": [
        "#!wget https://github.com/GigayasaWireless/toolkit5G/archive/refs/heads/website.zip -O toolkit5G.zip\n"
      ]
    },
    {
      "cell_type": "code",
      "execution_count": null,
      "id": "mIIcUJH0CGj7",
      "metadata": {
        "colab": {
          "base_uri": "https://localhost:8080/"
        },
        "id": "mIIcUJH0CGj7",
        "outputId": "b698d50c-b5c6-4c27-872f-9e99cf886324"
      },
      "outputs": [
        {
          "metadata": {
            "tags": null
          },
          "name": "stdout",
          "output_type": "stream",
          "text": [
            "Archive:  toolkit5G.zip\n",
            "417f1ca5b87c5a70793e6976d42f00491301ade8\n",
            "replace toolkit5G-website/.buildinfo? [y]es, [n]o, [A]ll, [N]one, [r]ename: "
          ]
        }
      ],
      "source": [
        "!unzip toolkit5G.zip\n"
      ]
    },
    {
      "cell_type": "code",
      "execution_count": null,
      "id": "a1ZgrrEQBO8I",
      "metadata": {
        "colab": {
          "base_uri": "https://localhost:8080/"
        },
        "id": "a1ZgrrEQBO8I",
        "outputId": "1d3bcdcc-f289-4aac-ba2a-a81b40f3ba5c"
      },
      "outputs": [
        {
          "data": {
            "text/plain": [
              "['.config',\n",
              " 'test_GettingStarted.html',\n",
              " 'toolkit5G-website',\n",
              " 'toolkit5G',\n",
              " 'toolkit5G.zip',\n",
              " 'sample_data']"
            ]
          },
          "execution_count": 66,
          "metadata": {},
          "output_type": "execute_result"
        }
      ],
      "source": [
        "import os\n",
        "os.listdir()"
      ]
    },
    {
      "cell_type": "code",
      "execution_count": null,
      "id": "Wtpi5TbhCOZ5",
      "metadata": {
        "id": "Wtpi5TbhCOZ5"
      },
      "outputs": [],
      "source": [
        "import sys\n",
        "sys.path.append(\"/content/toolkit5G-website/api/5G_Toolkit/SymbolMapping\")\n"
      ]
    },
    {
      "cell_type": "code",
      "execution_count": null,
      "id": "f963d5b8",
      "metadata": {
        "id": "f963d5b8"
      },
      "outputs": [],
      "source": [
        "from toolkit5G.api.Toolkit import SymbolMapping as sm\n",
        "from toolkit5G.api.Toolkit import ChannelCoder as cc"
      ]
    },
    {
      "cell_type": "code",
      "source": [
        "print(os.listdir('/content/toolkit5G-website/api/5G_Toolkit/SymbolMapping'))"
      ],
      "metadata": {
        "colab": {
          "base_uri": "https://localhost:8080/"
        },
        "id": "CtEPsKfnpSkZ",
        "outputId": "46f8ec50-fe43-4fd2-c785-e93d077c34ec"
      },
      "id": "CtEPsKfnpSkZ",
      "execution_count": null,
      "outputs": [
        {
          "output_type": "stream",
          "name": "stdout",
          "text": [
            "['symbolMapping.mapper.html', 'symbolMapping.demapper.html', 'symbolMapping.html']\n"
          ]
        }
      ]
    },
    {
      "cell_type": "code",
      "source": [
        "print(os.listdir('/content/toolkit5G-website/api/5G_Toolkit/ChannelCoder'))"
      ],
      "metadata": {
        "colab": {
          "base_uri": "https://localhost:8080/"
        },
        "id": "x-HVPXGPpgVR",
        "outputId": "bab7ac24-fa05-4383-bef2-bbda49a6f3bf"
      },
      "id": "x-HVPXGPpgVR",
      "execution_count": null,
      "outputs": [
        {
          "output_type": "stream",
          "name": "stdout",
          "text": [
            "['channelCoder.html', 'LDPC', 'ReedMullerCoder', 'HammingCoder', 'PolarCoder']\n"
          ]
        }
      ]
    },
    {
      "cell_type": "code",
      "execution_count": null,
      "id": "-KYWvDotCfAO",
      "metadata": {
        "colab": {
          "base_uri": "https://localhost:8080/",
          "height": 159
        },
        "id": "-KYWvDotCfAO",
        "outputId": "a45edae1-4993-4b4a-e023-c93a3a198643"
      },
      "outputs": [
        {
          "output_type": "error",
          "ename": "AttributeError",
          "evalue": "module 'toolkit5G.api.Toolkit.SymbolMapping' has no attribute 'SymbolMapping'",
          "traceback": [
            "\u001b[0;31m---------------------------------------------------------------------------\u001b[0m",
            "\u001b[0;31mAttributeError\u001b[0m                            Traceback (most recent call last)",
            "\u001b[0;32m<ipython-input-94-de2dc85f93f6>\u001b[0m in \u001b[0;36m<cell line: 1>\u001b[0;34m()\u001b[0m\n\u001b[0;32m----> 1\u001b[0;31m \u001b[0msm\u001b[0m\u001b[0;34m.\u001b[0m\u001b[0mSymbolMapping\u001b[0m\u001b[0;34m.\u001b[0m\u001b[0mdemapper\u001b[0m\u001b[0;34m\u001b[0m\u001b[0;34m\u001b[0m\u001b[0m\n\u001b[0m\u001b[1;32m      2\u001b[0m \u001b[0mcc\u001b[0m\u001b[0;34m.\u001b[0m\u001b[0mChannelCoder\u001b[0m\u001b[0;34m.\u001b[0m\u001b[0mHammingCoder\u001b[0m\u001b[0;34m\u001b[0m\u001b[0;34m\u001b[0m\u001b[0m\n",
            "\u001b[0;31mAttributeError\u001b[0m: module 'toolkit5G.api.Toolkit.SymbolMapping' has no attribute 'SymbolMapping'"
          ]
        }
      ],
      "source": [
        "sm.SymbolMapping.demapper\n",
        "cc.ChannelCoder.HammingCoder"
      ]
    },
    {
      "cell_type": "markdown",
      "id": "60b5e0f2",
      "metadata": {
        "id": "60b5e0f2"
      },
      "source": [
        "The following code cell defines the parametes of an AutoEncoder including the `snr_dB` at which it is being trained.\n",
        "We assume (n,k) = (7,4) here but the code is generailized to support other configurations as well such as (2,4) and (2,2) given in [1]"
      ]
    },
    {
      "cell_type": "markdown",
      "id": "2fd91691",
      "metadata": {
        "id": "2fd91691"
      },
      "source": [
        "## Parameters of AutoEncoder"
      ]
    },
    {
      "cell_type": "code",
      "execution_count": null,
      "id": "ef446c0a",
      "metadata": {
        "colab": {
          "base_uri": "https://localhost:8080/"
        },
        "id": "ef446c0a",
        "outputId": "83371341-d98f-4ae6-a3aa-5b06ce58a3bc"
      },
      "outputs": [
        {
          "name": "stdout",
          "output_type": "stream",
          "text": [
            "###################################################################################################\n",
            "Parameters of (7, 4) AutoEncoder are:\n",
            "\n",
            "Number of Information Symbols:16\n",
            "Number of Bits Per Information Symbol:4\n",
            "Number of Channel Uses:7\n",
            "Rate of Communication:0.5714285714285714\n"
          ]
        }
      ],
      "source": [
        "#################################################\n",
        "# Parameters of a (n,k) AutoEncoder (AE)\n",
        "# all the symbols are assumed to be real valued\n",
        "#################################################\n",
        "\n",
        "# number of information/message symbols that Tx communicates over channel to Rx\n",
        "M = 16\n",
        "# number of bits per information symbol\n",
        "k = int(np.log2(M))\n",
        "# number of channel uses or dimension of each code-word symbol or number of bits per code-word symbol\n",
        "n = 7\n",
        "# Rate of communication. i.e., k bits per n channel uses\n",
        "R = k/n\n",
        "print(\"###################################################################################################\")\n",
        "print(\"Parameters of \"+str((n,k))+\" AutoEncoder are:\\n\")\n",
        "print(\"Number of Information Symbols:\" + str(M))\n",
        "print(\"Number of Bits Per Information Symbol:\" + str(k))\n",
        "print(\"Number of Channel Uses:\" + str(n))\n",
        "print(\"Rate of Communication:\" + str(R))"
      ]
    },
    {
      "cell_type": "code",
      "execution_count": null,
      "id": "5e05dc2c",
      "metadata": {
        "id": "5e05dc2c"
      },
      "outputs": [],
      "source": [
        "###################################\n",
        "#SNR at which AE is being trained\n",
        "###################################\n",
        "#---------------------------------------------------------------------------------------------------------------\n",
        "# SNR in dB = Es/No, where Es: Energy per symbol, No: Noise Power Spectral Density\n",
        "snr_dB = 7\n",
        "# snr in linear scale\n",
        "snr_train = np.power(10,snr_dB/10)\n",
        "# noise standard deviation\n",
        "noise_stddev = np.sqrt(1/(2*R*snr_train))"
      ]
    },
    {
      "cell_type": "markdown",
      "id": "7050b7c4",
      "metadata": {
        "id": "7050b7c4"
      },
      "source": [
        "## Training Data"
      ]
    },
    {
      "cell_type": "code",
      "execution_count": null,
      "id": "6e586817",
      "metadata": {
        "colab": {
          "base_uri": "https://localhost:8080/"
        },
        "id": "6e586817",
        "outputId": "054fdeba-c799-42db-c831-7a549ebc051f"
      },
      "outputs": [
        {
          "name": "stdout",
          "output_type": "stream",
          "text": [
            "One-Hot Encodings of information symbols:\n",
            "\n",
            "[[1. 0. 0. 0. 0. 0. 0. 0. 0. 0. 0. 0. 0. 0. 0. 0.]\n",
            " [0. 1. 0. 0. 0. 0. 0. 0. 0. 0. 0. 0. 0. 0. 0. 0.]\n",
            " [0. 0. 1. 0. 0. 0. 0. 0. 0. 0. 0. 0. 0. 0. 0. 0.]\n",
            " [0. 0. 0. 1. 0. 0. 0. 0. 0. 0. 0. 0. 0. 0. 0. 0.]\n",
            " [0. 0. 0. 0. 1. 0. 0. 0. 0. 0. 0. 0. 0. 0. 0. 0.]\n",
            " [0. 0. 0. 0. 0. 1. 0. 0. 0. 0. 0. 0. 0. 0. 0. 0.]\n",
            " [0. 0. 0. 0. 0. 0. 1. 0. 0. 0. 0. 0. 0. 0. 0. 0.]\n",
            " [0. 0. 0. 0. 0. 0. 0. 1. 0. 0. 0. 0. 0. 0. 0. 0.]\n",
            " [0. 0. 0. 0. 0. 0. 0. 0. 1. 0. 0. 0. 0. 0. 0. 0.]\n",
            " [0. 0. 0. 0. 0. 0. 0. 0. 0. 1. 0. 0. 0. 0. 0. 0.]\n",
            " [0. 0. 0. 0. 0. 0. 0. 0. 0. 0. 1. 0. 0. 0. 0. 0.]\n",
            " [0. 0. 0. 0. 0. 0. 0. 0. 0. 0. 0. 1. 0. 0. 0. 0.]\n",
            " [0. 0. 0. 0. 0. 0. 0. 0. 0. 0. 0. 0. 1. 0. 0. 0.]\n",
            " [0. 0. 0. 0. 0. 0. 0. 0. 0. 0. 0. 0. 0. 1. 0. 0.]\n",
            " [0. 0. 0. 0. 0. 0. 0. 0. 0. 0. 0. 0. 0. 0. 1. 0.]\n",
            " [0. 0. 0. 0. 0. 0. 0. 0. 0. 0. 0. 0. 0. 0. 0. 1.]]\n"
          ]
        }
      ],
      "source": [
        "#############################################\n",
        "# One-hot embeddings of information symbols.\n",
        "#############################################\n",
        "# Each information symbol is mapped to a standard basis vector of dimension M\n",
        "\n",
        "symbol_encodings = np.eye(M)\n",
        "print(\"One-Hot Encodings of information symbols:\\n\")\n",
        "print(symbol_encodings)"
      ]
    },
    {
      "cell_type": "code",
      "execution_count": null,
      "id": "5a62478c",
      "metadata": {
        "colab": {
          "base_uri": "https://localhost:8080/"
        },
        "id": "5a62478c",
        "outputId": "891ca44d-7fb5-4134-f7ca-95597364586e"
      },
      "outputs": [
        {
          "name": "stdout",
          "output_type": "stream",
          "text": [
            "[13 10 12 ... 15 13 11]\n"
          ]
        }
      ],
      "source": [
        "###############################################################################\n",
        "# Generating data samples of size N. Each sample can take values from 0 to M-1\n",
        "###############################################################################\n",
        "N  = 9600000\n",
        "#*********************************************************************************\n",
        "# use this value of N only for Constellation plot when using TSNE under (7,4) AE\n",
        "# N = 1500\n",
        "#*********************************************************************************\n",
        "# random indices for labeling information symbols\n",
        "train_label = np.random.randint(M,size=N)\n",
        "print(train_label)"
      ]
    },
    {
      "cell_type": "code",
      "execution_count": null,
      "id": "6334175a",
      "metadata": {
        "colab": {
          "background_save": true,
          "base_uri": "https://localhost:8080/"
        },
        "id": "6334175a",
        "outputId": "efcdcacc-95a9-4845-fb59-1a0e61f49e1a"
      },
      "outputs": [
        {
          "name": "stdout",
          "output_type": "stream",
          "text": [
            "\n",
            "\n",
            "The shape of training data:\n",
            "(9600000, 16)\n"
          ]
        }
      ],
      "source": [
        "########################\n",
        "# Training data samples\n",
        "########################\n",
        "data = []\n",
        "for i in train_label:\n",
        "    temp = np.zeros(M)\n",
        "    temp[i] = 1\n",
        "    data.append(temp)\n",
        "# converting data in to a numpy array\n",
        "train_data = np.array(data)\n",
        "print(\"\\n\")\n",
        "# Printing the shape of training data\n",
        "print(\"The shape of training data:\")\n",
        "print(train_data.shape)"
      ]
    },
    {
      "cell_type": "code",
      "execution_count": null,
      "id": "04f271e6",
      "metadata": {
        "colab": {
          "base_uri": "https://localhost:8080/"
        },
        "id": "04f271e6",
        "outputId": "fa604c70-20b0-4a5a-9fde-1c2cede22e17"
      },
      "outputs": [
        {
          "name": "stdout",
          "output_type": "stream",
          "text": [
            "[ 960671 5786607 8601088 4439732 1157617 3487210 8632173 6114654 1332239\n",
            " 4319694 5144095 3777792 4464441]\n",
            "\n",
            "\n",
            "14 [0. 0. 0. 0. 0. 0. 0. 0. 0. 0. 0. 0. 0. 0. 1. 0.]\n",
            "6 [0. 0. 0. 0. 0. 0. 1. 0. 0. 0. 0. 0. 0. 0. 0. 0.]\n",
            "4 [0. 0. 0. 0. 1. 0. 0. 0. 0. 0. 0. 0. 0. 0. 0. 0.]\n",
            "3 [0. 0. 0. 1. 0. 0. 0. 0. 0. 0. 0. 0. 0. 0. 0. 0.]\n",
            "15 [0. 0. 0. 0. 0. 0. 0. 0. 0. 0. 0. 0. 0. 0. 0. 1.]\n",
            "5 [0. 0. 0. 0. 0. 1. 0. 0. 0. 0. 0. 0. 0. 0. 0. 0.]\n",
            "5 [0. 0. 0. 0. 0. 1. 0. 0. 0. 0. 0. 0. 0. 0. 0. 0.]\n",
            "6 [0. 0. 0. 0. 0. 0. 1. 0. 0. 0. 0. 0. 0. 0. 0. 0.]\n",
            "0 [1. 0. 0. 0. 0. 0. 0. 0. 0. 0. 0. 0. 0. 0. 0. 0.]\n",
            "0 [1. 0. 0. 0. 0. 0. 0. 0. 0. 0. 0. 0. 0. 0. 0. 0.]\n",
            "1 [0. 1. 0. 0. 0. 0. 0. 0. 0. 0. 0. 0. 0. 0. 0. 0.]\n",
            "14 [0. 0. 0. 0. 0. 0. 0. 0. 0. 0. 0. 0. 0. 0. 1. 0.]\n",
            "9 [0. 0. 0. 0. 0. 0. 0. 0. 0. 1. 0. 0. 0. 0. 0. 0.]\n"
          ]
        }
      ],
      "source": [
        "# Verifying training data with its label or index for 13 samples\n",
        "\n",
        "tempLabel_train = np.random.randint(N,size=13)\n",
        "print(tempLabel_train)\n",
        "print(\"\\n\")\n",
        "for i in tempLabel_train:\n",
        "    print(train_label[i],train_data[i])"
      ]
    },
    {
      "cell_type": "markdown",
      "id": "68dcaed2",
      "metadata": {
        "id": "68dcaed2"
      },
      "source": [
        "## Testing Data"
      ]
    },
    {
      "cell_type": "code",
      "execution_count": null,
      "id": "a3418e5a",
      "metadata": {
        "colab": {
          "base_uri": "https://localhost:8080/"
        },
        "id": "a3418e5a",
        "outputId": "0b6ad9ca-559a-4f84-ae66-fac3116515fe"
      },
      "outputs": [
        {
          "name": "stdout",
          "output_type": "stream",
          "text": [
            "The shape of test data is:\n",
            "(16000, 16)\n"
          ]
        }
      ],
      "source": [
        "###############################\n",
        "# Generating data for testing\n",
        "###############################\n",
        "N_test = 16000\n",
        "#**************************************************\n",
        "# use this only for Constellation Plot of (7,4) AE\n",
        "# N_test = 500\n",
        "#**************************************************\n",
        "test_label = np.random.randint(M,size=N_test)\n",
        "test_data = []\n",
        "for i in test_label:\n",
        "    temp    = np.zeros(M)\n",
        "    temp[i] = 1\n",
        "    test_data.append(temp)\n",
        "# converting it to a numpy array\n",
        "test_data = np.array(test_data)\n",
        "# Printing the shape of test data\n",
        "print(\"The shape of test data is:\")\n",
        "print(test_data.shape)"
      ]
    },
    {
      "cell_type": "code",
      "execution_count": null,
      "id": "f63aa712",
      "metadata": {
        "colab": {
          "base_uri": "https://localhost:8080/"
        },
        "id": "f63aa712",
        "outputId": "3bbf06b2-0556-4f8d-dacf-eb70b672bb13"
      },
      "outputs": [
        {
          "name": "stdout",
          "output_type": "stream",
          "text": [
            "[ 1544  8396 10436 10789  7168  3871  9346]\n",
            "\n",
            "\n",
            "5 [0. 0. 0. 0. 0. 1. 0. 0. 0. 0. 0. 0. 0. 0. 0. 0.]\n",
            "3 [0. 0. 0. 1. 0. 0. 0. 0. 0. 0. 0. 0. 0. 0. 0. 0.]\n",
            "2 [0. 0. 1. 0. 0. 0. 0. 0. 0. 0. 0. 0. 0. 0. 0. 0.]\n",
            "10 [0. 0. 0. 0. 0. 0. 0. 0. 0. 0. 1. 0. 0. 0. 0. 0.]\n",
            "0 [1. 0. 0. 0. 0. 0. 0. 0. 0. 0. 0. 0. 0. 0. 0. 0.]\n",
            "15 [0. 0. 0. 0. 0. 0. 0. 0. 0. 0. 0. 0. 0. 0. 0. 1.]\n",
            "15 [0. 0. 0. 0. 0. 0. 0. 0. 0. 0. 0. 0. 0. 0. 0. 1.]\n"
          ]
        }
      ],
      "source": [
        "# Verifying test data with its label for 7 sample\n",
        "tempTestLabel = np.random.randint(N_test,size=7)\n",
        "print(tempTestLabel)\n",
        "print(\"\\n\")\n",
        "for i in tempTestLabel:\n",
        "    print(test_label[i],test_data[i])\n"
      ]
    },
    {
      "cell_type": "markdown",
      "id": "c53b916a",
      "metadata": {
        "id": "c53b916a"
      },
      "source": [
        "## Normalization Functions"
      ]
    },
    {
      "cell_type": "code",
      "execution_count": null,
      "id": "0716d720",
      "metadata": {
        "id": "0716d720"
      },
      "outputs": [],
      "source": [
        "from tensorflow.keras import backend as K\n",
        "\n",
        "def normalizeAvgPower(x):\n",
        "    \"\"\" Normalizes the power of input tensor\"\"\"\n",
        "    return x / K.sqrt(K.mean(K.square(x)))\n"
      ]
    },
    {
      "cell_type": "code",
      "execution_count": null,
      "id": "84ec44be",
      "metadata": {
        "id": "84ec44be"
      },
      "outputs": [],
      "source": [
        "def normalizeEnergy(x):\n",
        "    \"\"\" Normalizes the energy of input tensor\"\"\"\n",
        "    return np.sqrt(n)*(K.l2_normalize(x,axis=-1))"
      ]
    },
    {
      "cell_type": "markdown",
      "id": "d746ef87",
      "metadata": {
        "id": "d746ef87"
      },
      "source": [
        "## Defining AutoEncoder Model"
      ]
    },
    {
      "cell_type": "code",
      "execution_count": null,
      "id": "-ObNLudpEEyx",
      "metadata": {
        "colab": {
          "base_uri": "https://localhost:8080/",
          "height": 391
        },
        "id": "-ObNLudpEEyx",
        "outputId": "b85c26b3-a521-46e6-81da-58a30b2f8379"
      },
      "outputs": [
        {
          "data": {
            "text/html": [
              "<pre style=\"white-space:pre;overflow-x:auto;line-height:normal;font-family:Menlo,'DejaVu Sans Mono',consolas,'Courier New',monospace\"><span style=\"font-weight: bold\">Model: \"functional_7\"</span>\n",
              "</pre>\n"
            ],
            "text/plain": [
              "\u001b[1mModel: \"functional_7\"\u001b[0m\n"
            ]
          },
          "metadata": {},
          "output_type": "display_data"
        },
        {
          "data": {
            "text/html": [
              "<pre style=\"white-space:pre;overflow-x:auto;line-height:normal;font-family:Menlo,'DejaVu Sans Mono',consolas,'Courier New',monospace\">┏━━━━━━━━━━━━━━━━━━━━━━━━━━━━━━━━━━━━━━┳━━━━━━━━━━━━━━━━━━━━━━━━━━━━━┳━━━━━━━━━━━━━━━━━┓\n",
              "┃<span style=\"font-weight: bold\"> Layer (type)                         </span>┃<span style=\"font-weight: bold\"> Output Shape                </span>┃<span style=\"font-weight: bold\">         Param # </span>┃\n",
              "┡━━━━━━━━━━━━━━━━━━━━━━━━━━━━━━━━━━━━━━╇━━━━━━━━━━━━━━━━━━━━━━━━━━━━━╇━━━━━━━━━━━━━━━━━┩\n",
              "│ input_layer_9 (<span style=\"color: #0087ff; text-decoration-color: #0087ff\">InputLayer</span>)           │ (<span style=\"color: #00d7ff; text-decoration-color: #00d7ff\">None</span>, <span style=\"color: #00af00; text-decoration-color: #00af00\">16</span>)                  │               <span style=\"color: #00af00; text-decoration-color: #00af00\">0</span> │\n",
              "├──────────────────────────────────────┼─────────────────────────────┼─────────────────┤\n",
              "│ dense_32 (<span style=\"color: #0087ff; text-decoration-color: #0087ff\">Dense</span>)                     │ (<span style=\"color: #00d7ff; text-decoration-color: #00d7ff\">None</span>, <span style=\"color: #00af00; text-decoration-color: #00af00\">16</span>)                  │             <span style=\"color: #00af00; text-decoration-color: #00af00\">272</span> │\n",
              "├──────────────────────────────────────┼─────────────────────────────┼─────────────────┤\n",
              "│ dense_33 (<span style=\"color: #0087ff; text-decoration-color: #0087ff\">Dense</span>)                     │ (<span style=\"color: #00d7ff; text-decoration-color: #00d7ff\">None</span>, <span style=\"color: #00af00; text-decoration-color: #00af00\">7</span>)                   │             <span style=\"color: #00af00; text-decoration-color: #00af00\">119</span> │\n",
              "├──────────────────────────────────────┼─────────────────────────────┼─────────────────┤\n",
              "│ lambda_9 (<span style=\"color: #0087ff; text-decoration-color: #0087ff\">Lambda</span>)                    │ (<span style=\"color: #00d7ff; text-decoration-color: #00d7ff\">None</span>, <span style=\"color: #00af00; text-decoration-color: #00af00\">7</span>)                   │               <span style=\"color: #00af00; text-decoration-color: #00af00\">0</span> │\n",
              "├──────────────────────────────────────┼─────────────────────────────┼─────────────────┤\n",
              "│ gaussian_noise_7 (<span style=\"color: #0087ff; text-decoration-color: #0087ff\">GaussianNoise</span>)     │ (<span style=\"color: #00d7ff; text-decoration-color: #00d7ff\">None</span>, <span style=\"color: #00af00; text-decoration-color: #00af00\">7</span>)                   │               <span style=\"color: #00af00; text-decoration-color: #00af00\">0</span> │\n",
              "├──────────────────────────────────────┼─────────────────────────────┼─────────────────┤\n",
              "│ dense_34 (<span style=\"color: #0087ff; text-decoration-color: #0087ff\">Dense</span>)                     │ (<span style=\"color: #00d7ff; text-decoration-color: #00d7ff\">None</span>, <span style=\"color: #00af00; text-decoration-color: #00af00\">16</span>)                  │             <span style=\"color: #00af00; text-decoration-color: #00af00\">128</span> │\n",
              "├──────────────────────────────────────┼─────────────────────────────┼─────────────────┤\n",
              "│ dense_35 (<span style=\"color: #0087ff; text-decoration-color: #0087ff\">Dense</span>)                     │ (<span style=\"color: #00d7ff; text-decoration-color: #00d7ff\">None</span>, <span style=\"color: #00af00; text-decoration-color: #00af00\">16</span>)                  │             <span style=\"color: #00af00; text-decoration-color: #00af00\">272</span> │\n",
              "└──────────────────────────────────────┴─────────────────────────────┴─────────────────┘\n",
              "</pre>\n"
            ],
            "text/plain": [
              "┏━━━━━━━━━━━━━━━━━━━━━━━━━━━━━━━━━━━━━━┳━━━━━━━━━━━━━━━━━━━━━━━━━━━━━┳━━━━━━━━━━━━━━━━━┓\n",
              "┃\u001b[1m \u001b[0m\u001b[1mLayer (type)                        \u001b[0m\u001b[1m \u001b[0m┃\u001b[1m \u001b[0m\u001b[1mOutput Shape               \u001b[0m\u001b[1m \u001b[0m┃\u001b[1m \u001b[0m\u001b[1m        Param #\u001b[0m\u001b[1m \u001b[0m┃\n",
              "┡━━━━━━━━━━━━━━━━━━━━━━━━━━━━━━━━━━━━━━╇━━━━━━━━━━━━━━━━━━━━━━━━━━━━━╇━━━━━━━━━━━━━━━━━┩\n",
              "│ input_layer_9 (\u001b[38;5;33mInputLayer\u001b[0m)           │ (\u001b[38;5;45mNone\u001b[0m, \u001b[38;5;34m16\u001b[0m)                  │               \u001b[38;5;34m0\u001b[0m │\n",
              "├──────────────────────────────────────┼─────────────────────────────┼─────────────────┤\n",
              "│ dense_32 (\u001b[38;5;33mDense\u001b[0m)                     │ (\u001b[38;5;45mNone\u001b[0m, \u001b[38;5;34m16\u001b[0m)                  │             \u001b[38;5;34m272\u001b[0m │\n",
              "├──────────────────────────────────────┼─────────────────────────────┼─────────────────┤\n",
              "│ dense_33 (\u001b[38;5;33mDense\u001b[0m)                     │ (\u001b[38;5;45mNone\u001b[0m, \u001b[38;5;34m7\u001b[0m)                   │             \u001b[38;5;34m119\u001b[0m │\n",
              "├──────────────────────────────────────┼─────────────────────────────┼─────────────────┤\n",
              "│ lambda_9 (\u001b[38;5;33mLambda\u001b[0m)                    │ (\u001b[38;5;45mNone\u001b[0m, \u001b[38;5;34m7\u001b[0m)                   │               \u001b[38;5;34m0\u001b[0m │\n",
              "├──────────────────────────────────────┼─────────────────────────────┼─────────────────┤\n",
              "│ gaussian_noise_7 (\u001b[38;5;33mGaussianNoise\u001b[0m)     │ (\u001b[38;5;45mNone\u001b[0m, \u001b[38;5;34m7\u001b[0m)                   │               \u001b[38;5;34m0\u001b[0m │\n",
              "├──────────────────────────────────────┼─────────────────────────────┼─────────────────┤\n",
              "│ dense_34 (\u001b[38;5;33mDense\u001b[0m)                     │ (\u001b[38;5;45mNone\u001b[0m, \u001b[38;5;34m16\u001b[0m)                  │             \u001b[38;5;34m128\u001b[0m │\n",
              "├──────────────────────────────────────┼─────────────────────────────┼─────────────────┤\n",
              "│ dense_35 (\u001b[38;5;33mDense\u001b[0m)                     │ (\u001b[38;5;45mNone\u001b[0m, \u001b[38;5;34m16\u001b[0m)                  │             \u001b[38;5;34m272\u001b[0m │\n",
              "└──────────────────────────────────────┴─────────────────────────────┴─────────────────┘\n"
            ]
          },
          "metadata": {},
          "output_type": "display_data"
        },
        {
          "data": {
            "text/html": [
              "<pre style=\"white-space:pre;overflow-x:auto;line-height:normal;font-family:Menlo,'DejaVu Sans Mono',consolas,'Courier New',monospace\"><span style=\"font-weight: bold\"> Total params: </span><span style=\"color: #00af00; text-decoration-color: #00af00\">791</span> (3.09 KB)\n",
              "</pre>\n"
            ],
            "text/plain": [
              "\u001b[1m Total params: \u001b[0m\u001b[38;5;34m791\u001b[0m (3.09 KB)\n"
            ]
          },
          "metadata": {},
          "output_type": "display_data"
        },
        {
          "data": {
            "text/html": [
              "<pre style=\"white-space:pre;overflow-x:auto;line-height:normal;font-family:Menlo,'DejaVu Sans Mono',consolas,'Courier New',monospace\"><span style=\"font-weight: bold\"> Trainable params: </span><span style=\"color: #00af00; text-decoration-color: #00af00\">791</span> (3.09 KB)\n",
              "</pre>\n"
            ],
            "text/plain": [
              "\u001b[1m Trainable params: \u001b[0m\u001b[38;5;34m791\u001b[0m (3.09 KB)\n"
            ]
          },
          "metadata": {},
          "output_type": "display_data"
        },
        {
          "data": {
            "text/html": [
              "<pre style=\"white-space:pre;overflow-x:auto;line-height:normal;font-family:Menlo,'DejaVu Sans Mono',consolas,'Courier New',monospace\"><span style=\"font-weight: bold\"> Non-trainable params: </span><span style=\"color: #00af00; text-decoration-color: #00af00\">0</span> (0.00 B)\n",
              "</pre>\n"
            ],
            "text/plain": [
              "\u001b[1m Non-trainable params: \u001b[0m\u001b[38;5;34m0\u001b[0m (0.00 B)\n"
            ]
          },
          "metadata": {},
          "output_type": "display_data"
        },
        {
          "name": "stdout",
          "output_type": "stream",
          "text": [
            "None\n"
          ]
        }
      ],
      "source": [
        "# Define the model\n",
        "onehot = Input(shape=(M,))\n",
        "dense1 = Dense(M, activation='relu')(onehot)\n",
        "dense2 = Dense(n, activation='linear')(dense1)\n",
        "\n",
        "# Specify output shape for Lambda layer\n",
        "x = Lambda(normalizeAvgPower, output_shape=(n,))(dense2)  # Avg power constraint\n",
        "\n",
        "# Channel layer\n",
        "y = GaussianNoise(stddev=noise_stddev)(x)\n",
        "\n",
        "# Rx layer\n",
        "dense3 = Dense(M, activation='relu')(y)\n",
        "prob = Dense(M, activation='softmax')(dense3)\n",
        "\n",
        "# Define end-to-end autoencoder model\n",
        "autoEncoder = Model(onehot, prob)\n",
        "\n",
        "# Instantiate optimizer\n",
        "adam = Adam(learning_rate=0.01)\n",
        "\n",
        "# Compile end-to-end model\n",
        "autoEncoder.compile(optimizer=adam, loss='categorical_crossentropy')\n",
        "\n",
        "# Print summary of layers and its trainable parameters\n",
        "print(autoEncoder.summary())\n"
      ]
    },
    {
      "cell_type": "markdown",
      "id": "96eab5b1",
      "metadata": {
        "id": "96eab5b1"
      },
      "source": [
        "In the following code snippet we show how to train an end to end AE by a call to `fit()` method specifying the training and validation data. We choose 50 `epochs` with a `batch_size` of 1024. One can vary these values to obtain a different trainable model."
      ]
    },
    {
      "cell_type": "markdown",
      "id": "7c9fb839",
      "metadata": {
        "id": "7c9fb839"
      },
      "source": [
        "## Training AutoEncoder"
      ]
    },
    {
      "cell_type": "code",
      "execution_count": null,
      "id": "308c84b2",
      "metadata": {
        "colab": {
          "base_uri": "https://localhost:8080/"
        },
        "id": "308c84b2",
        "outputId": "8697a22d-ccd7-477b-fc4b-ef60d9e43adc"
      },
      "outputs": [
        {
          "name": "stdout",
          "output_type": "stream",
          "text": [
            "Epoch 1/50\n",
            "\u001b[1m1172/1172\u001b[0m \u001b[32m━━━━━━━━━━━━━━━━━━━━\u001b[0m\u001b[37m\u001b[0m \u001b[1m16s\u001b[0m 11ms/step - loss: 0.2284 - val_loss: 1.4727e-06\n",
            "Epoch 2/50\n",
            "\u001b[1m1172/1172\u001b[0m \u001b[32m━━━━━━━━━━━━━━━━━━━━\u001b[0m\u001b[37m\u001b[0m \u001b[1m13s\u001b[0m 11ms/step - loss: 0.0014 - val_loss: 5.1163e-08\n",
            "Epoch 3/50\n",
            "\u001b[1m1172/1172\u001b[0m \u001b[32m━━━━━━━━━━━━━━━━━━━━\u001b[0m\u001b[37m\u001b[0m \u001b[1m13s\u001b[0m 10ms/step - loss: 9.3996e-04 - val_loss: 0.0000e+00\n",
            "Epoch 4/50\n",
            "\u001b[1m1172/1172\u001b[0m \u001b[32m━━━━━━━━━━━━━━━━━━━━\u001b[0m\u001b[37m\u001b[0m \u001b[1m21s\u001b[0m 11ms/step - loss: 7.8140e-04 - val_loss: 0.0000e+00\n",
            "Epoch 5/50\n",
            "\u001b[1m1172/1172\u001b[0m \u001b[32m━━━━━━━━━━━━━━━━━━━━\u001b[0m\u001b[37m\u001b[0m \u001b[1m21s\u001b[0m 11ms/step - loss: 7.1724e-04 - val_loss: 0.0000e+00\n",
            "Epoch 6/50\n",
            "\u001b[1m1172/1172\u001b[0m \u001b[32m━━━━━━━━━━━━━━━━━━━━\u001b[0m\u001b[37m\u001b[0m \u001b[1m14s\u001b[0m 11ms/step - loss: 6.6487e-04 - val_loss: 0.0000e+00\n",
            "Epoch 7/50\n",
            "\u001b[1m1172/1172\u001b[0m \u001b[32m━━━━━━━━━━━━━━━━━━━━\u001b[0m\u001b[37m\u001b[0m \u001b[1m20s\u001b[0m 11ms/step - loss: 6.4245e-04 - val_loss: 0.0000e+00\n",
            "Epoch 8/50\n",
            "\u001b[1m1172/1172\u001b[0m \u001b[32m━━━━━━━━━━━━━━━━━━━━\u001b[0m\u001b[37m\u001b[0m \u001b[1m13s\u001b[0m 11ms/step - loss: 6.1045e-04 - val_loss: 0.0000e+00\n",
            "Epoch 9/50\n",
            "\u001b[1m1172/1172\u001b[0m \u001b[32m━━━━━━━━━━━━━━━━━━━━\u001b[0m\u001b[37m\u001b[0m \u001b[1m20s\u001b[0m 11ms/step - loss: 5.5159e-04 - val_loss: 0.0000e+00\n",
            "Epoch 10/50\n",
            "\u001b[1m1172/1172\u001b[0m \u001b[32m━━━━━━━━━━━━━━━━━━━━\u001b[0m\u001b[37m\u001b[0m \u001b[1m21s\u001b[0m 11ms/step - loss: 5.2714e-04 - val_loss: 0.0000e+00\n",
            "Epoch 11/50\n",
            "\u001b[1m1172/1172\u001b[0m \u001b[32m━━━━━━━━━━━━━━━━━━━━\u001b[0m\u001b[37m\u001b[0m \u001b[1m20s\u001b[0m 11ms/step - loss: 5.3954e-04 - val_loss: 0.0000e+00\n",
            "Epoch 12/50\n",
            "\u001b[1m1172/1172\u001b[0m \u001b[32m━━━━━━━━━━━━━━━━━━━━\u001b[0m\u001b[37m\u001b[0m \u001b[1m13s\u001b[0m 11ms/step - loss: 5.3096e-04 - val_loss: 0.0000e+00\n",
            "Epoch 13/50\n",
            "\u001b[1m1172/1172\u001b[0m \u001b[32m━━━━━━━━━━━━━━━━━━━━\u001b[0m\u001b[37m\u001b[0m \u001b[1m14s\u001b[0m 11ms/step - loss: 4.9291e-04 - val_loss: 0.0000e+00\n",
            "Epoch 14/50\n",
            "\u001b[1m1172/1172\u001b[0m \u001b[32m━━━━━━━━━━━━━━━━━━━━\u001b[0m\u001b[37m\u001b[0m \u001b[1m20s\u001b[0m 11ms/step - loss: 5.2448e-04 - val_loss: 0.0000e+00\n",
            "Epoch 15/50\n",
            "\u001b[1m1172/1172\u001b[0m \u001b[32m━━━━━━━━━━━━━━━━━━━━\u001b[0m\u001b[37m\u001b[0m \u001b[1m21s\u001b[0m 11ms/step - loss: 5.3740e-04 - val_loss: 0.0000e+00\n",
            "Epoch 16/50\n",
            "\u001b[1m1172/1172\u001b[0m \u001b[32m━━━━━━━━━━━━━━━━━━━━\u001b[0m\u001b[37m\u001b[0m \u001b[1m20s\u001b[0m 11ms/step - loss: 4.9086e-04 - val_loss: 0.0000e+00\n",
            "Epoch 17/50\n",
            "\u001b[1m1172/1172\u001b[0m \u001b[32m━━━━━━━━━━━━━━━━━━━━\u001b[0m\u001b[37m\u001b[0m \u001b[1m20s\u001b[0m 11ms/step - loss: 5.1491e-04 - val_loss: 0.0000e+00\n",
            "Epoch 18/50\n",
            "\u001b[1m1172/1172\u001b[0m \u001b[32m━━━━━━━━━━━━━━━━━━━━\u001b[0m\u001b[37m\u001b[0m \u001b[1m14s\u001b[0m 11ms/step - loss: 5.0862e-04 - val_loss: 0.0000e+00\n",
            "Epoch 19/50\n",
            "\u001b[1m1172/1172\u001b[0m \u001b[32m━━━━━━━━━━━━━━━━━━━━\u001b[0m\u001b[37m\u001b[0m \u001b[1m13s\u001b[0m 11ms/step - loss: 4.6262e-04 - val_loss: 0.0000e+00\n",
            "Epoch 20/50\n",
            "\u001b[1m1172/1172\u001b[0m \u001b[32m━━━━━━━━━━━━━━━━━━━━\u001b[0m\u001b[37m\u001b[0m \u001b[1m20s\u001b[0m 11ms/step - loss: 4.9762e-04 - val_loss: 0.0000e+00\n",
            "Epoch 21/50\n",
            "\u001b[1m1172/1172\u001b[0m \u001b[32m━━━━━━━━━━━━━━━━━━━━\u001b[0m\u001b[37m\u001b[0m \u001b[1m13s\u001b[0m 10ms/step - loss: 4.7144e-04 - val_loss: 0.0000e+00\n",
            "Epoch 22/50\n",
            "\u001b[1m1172/1172\u001b[0m \u001b[32m━━━━━━━━━━━━━━━━━━━━\u001b[0m\u001b[37m\u001b[0m \u001b[1m21s\u001b[0m 11ms/step - loss: 4.6511e-04 - val_loss: 0.0000e+00\n",
            "Epoch 23/50\n",
            "\u001b[1m1172/1172\u001b[0m \u001b[32m━━━━━━━━━━━━━━━━━━━━\u001b[0m\u001b[37m\u001b[0m \u001b[1m14s\u001b[0m 11ms/step - loss: 4.9596e-04 - val_loss: 0.0000e+00\n",
            "Epoch 24/50\n",
            "\u001b[1m1172/1172\u001b[0m \u001b[32m━━━━━━━━━━━━━━━━━━━━\u001b[0m\u001b[37m\u001b[0m \u001b[1m20s\u001b[0m 11ms/step - loss: 4.4538e-04 - val_loss: 0.0000e+00\n",
            "Epoch 25/50\n",
            "\u001b[1m1172/1172\u001b[0m \u001b[32m━━━━━━━━━━━━━━━━━━━━\u001b[0m\u001b[37m\u001b[0m \u001b[1m14s\u001b[0m 11ms/step - loss: 4.9119e-04 - val_loss: 0.0000e+00\n",
            "Epoch 26/50\n",
            "\u001b[1m1172/1172\u001b[0m \u001b[32m━━━━━━━━━━━━━━━━━━━━\u001b[0m\u001b[37m\u001b[0m \u001b[1m20s\u001b[0m 11ms/step - loss: 4.9807e-04 - val_loss: 0.0000e+00\n",
            "Epoch 27/50\n",
            "\u001b[1m1172/1172\u001b[0m \u001b[32m━━━━━━━━━━━━━━━━━━━━\u001b[0m\u001b[37m\u001b[0m \u001b[1m14s\u001b[0m 11ms/step - loss: 4.6350e-04 - val_loss: 0.0000e+00\n",
            "Epoch 28/50\n",
            "\u001b[1m1172/1172\u001b[0m \u001b[32m━━━━━━━━━━━━━━━━━━━━\u001b[0m\u001b[37m\u001b[0m \u001b[1m20s\u001b[0m 11ms/step - loss: 4.6979e-04 - val_loss: 0.0000e+00\n",
            "Epoch 29/50\n",
            "\u001b[1m1172/1172\u001b[0m \u001b[32m━━━━━━━━━━━━━━━━━━━━\u001b[0m\u001b[37m\u001b[0m \u001b[1m23s\u001b[0m 13ms/step - loss: 4.7938e-04 - val_loss: 0.0000e+00\n",
            "Epoch 30/50\n",
            "\u001b[1m1172/1172\u001b[0m \u001b[32m━━━━━━━━━━━━━━━━━━━━\u001b[0m\u001b[37m\u001b[0m \u001b[1m18s\u001b[0m 11ms/step - loss: 4.6818e-04 - val_loss: 0.0000e+00\n",
            "Epoch 31/50\n",
            "\u001b[1m1172/1172\u001b[0m \u001b[32m━━━━━━━━━━━━━━━━━━━━\u001b[0m\u001b[37m\u001b[0m \u001b[1m20s\u001b[0m 11ms/step - loss: 4.5606e-04 - val_loss: 0.0000e+00\n",
            "Epoch 32/50\n",
            "\u001b[1m1172/1172\u001b[0m \u001b[32m━━━━━━━━━━━━━━━━━━━━\u001b[0m\u001b[37m\u001b[0m \u001b[1m21s\u001b[0m 11ms/step - loss: 4.4972e-04 - val_loss: 0.0000e+00\n",
            "Epoch 33/50\n",
            "\u001b[1m1172/1172\u001b[0m \u001b[32m━━━━━━━━━━━━━━━━━━━━\u001b[0m\u001b[37m\u001b[0m \u001b[1m20s\u001b[0m 11ms/step - loss: 4.2688e-04 - val_loss: 0.0000e+00\n",
            "Epoch 34/50\n",
            "\u001b[1m1172/1172\u001b[0m \u001b[32m━━━━━━━━━━━━━━━━━━━━\u001b[0m\u001b[37m\u001b[0m \u001b[1m24s\u001b[0m 13ms/step - loss: 4.2801e-04 - val_loss: 0.0000e+00\n",
            "Epoch 35/50\n",
            "\u001b[1m1172/1172\u001b[0m \u001b[32m━━━━━━━━━━━━━━━━━━━━\u001b[0m\u001b[37m\u001b[0m \u001b[1m14s\u001b[0m 11ms/step - loss: 4.5275e-04 - val_loss: 0.0000e+00\n",
            "Epoch 36/50\n",
            "\u001b[1m1172/1172\u001b[0m \u001b[32m━━━━━━━━━━━━━━━━━━━━\u001b[0m\u001b[37m\u001b[0m \u001b[1m14s\u001b[0m 11ms/step - loss: 4.5428e-04 - val_loss: 0.0000e+00\n",
            "Epoch 37/50\n",
            "\u001b[1m1172/1172\u001b[0m \u001b[32m━━━━━━━━━━━━━━━━━━━━\u001b[0m\u001b[37m\u001b[0m \u001b[1m20s\u001b[0m 11ms/step - loss: 4.6612e-04 - val_loss: 0.0000e+00\n",
            "Epoch 38/50\n",
            "\u001b[1m1172/1172\u001b[0m \u001b[32m━━━━━━━━━━━━━━━━━━━━\u001b[0m\u001b[37m\u001b[0m \u001b[1m14s\u001b[0m 11ms/step - loss: 4.5398e-04 - val_loss: 0.0000e+00\n",
            "Epoch 39/50\n",
            "\u001b[1m1172/1172\u001b[0m \u001b[32m━━━━━━━━━━━━━━━━━━━━\u001b[0m\u001b[37m\u001b[0m \u001b[1m14s\u001b[0m 11ms/step - loss: 4.3694e-04 - val_loss: 0.0000e+00\n",
            "Epoch 40/50\n",
            "\u001b[1m1172/1172\u001b[0m \u001b[32m━━━━━━━━━━━━━━━━━━━━\u001b[0m\u001b[37m\u001b[0m \u001b[1m20s\u001b[0m 11ms/step - loss: 4.2223e-04 - val_loss: 0.0000e+00\n",
            "Epoch 41/50\n",
            "\u001b[1m1172/1172\u001b[0m \u001b[32m━━━━━━━━━━━━━━━━━━━━\u001b[0m\u001b[37m\u001b[0m \u001b[1m21s\u001b[0m 11ms/step - loss: 4.7823e-04 - val_loss: 0.0000e+00\n",
            "Epoch 42/50\n",
            "\u001b[1m1172/1172\u001b[0m \u001b[32m━━━━━━━━━━━━━━━━━━━━\u001b[0m\u001b[37m\u001b[0m \u001b[1m14s\u001b[0m 11ms/step - loss: 4.4710e-04 - val_loss: 0.0000e+00\n",
            "Epoch 43/50\n",
            "\u001b[1m1172/1172\u001b[0m \u001b[32m━━━━━━━━━━━━━━━━━━━━\u001b[0m\u001b[37m\u001b[0m \u001b[1m20s\u001b[0m 11ms/step - loss: 4.2942e-04 - val_loss: 0.0000e+00\n",
            "Epoch 44/50\n",
            "\u001b[1m1172/1172\u001b[0m \u001b[32m━━━━━━━━━━━━━━━━━━━━\u001b[0m\u001b[37m\u001b[0m \u001b[1m21s\u001b[0m 11ms/step - loss: 4.6584e-04 - val_loss: 0.0000e+00\n",
            "Epoch 45/50\n",
            "\u001b[1m1172/1172\u001b[0m \u001b[32m━━━━━━━━━━━━━━━━━━━━\u001b[0m\u001b[37m\u001b[0m \u001b[1m20s\u001b[0m 11ms/step - loss: 4.6519e-04 - val_loss: 0.0000e+00\n",
            "Epoch 46/50\n",
            "\u001b[1m1172/1172\u001b[0m \u001b[32m━━━━━━━━━━━━━━━━━━━━\u001b[0m\u001b[37m\u001b[0m \u001b[1m13s\u001b[0m 11ms/step - loss: 4.4159e-04 - val_loss: 0.0000e+00\n",
            "Epoch 47/50\n",
            "\u001b[1m1172/1172\u001b[0m \u001b[32m━━━━━━━━━━━━━━━━━━━━\u001b[0m\u001b[37m\u001b[0m \u001b[1m14s\u001b[0m 11ms/step - loss: 4.1887e-04 - val_loss: 0.0000e+00\n",
            "Epoch 48/50\n",
            "\u001b[1m1172/1172\u001b[0m \u001b[32m━━━━━━━━━━━━━━━━━━━━\u001b[0m\u001b[37m\u001b[0m \u001b[1m13s\u001b[0m 11ms/step - loss: 4.6371e-04 - val_loss: 0.0000e+00\n",
            "Epoch 49/50\n",
            "\u001b[1m1172/1172\u001b[0m \u001b[32m━━━━━━━━━━━━━━━━━━━━\u001b[0m\u001b[37m\u001b[0m \u001b[1m14s\u001b[0m 11ms/step - loss: 4.2782e-04 - val_loss: 0.0000e+00\n",
            "Epoch 50/50\n",
            "\u001b[1m1172/1172\u001b[0m \u001b[32m━━━━━━━━━━━━━━━━━━━━\u001b[0m\u001b[37m\u001b[0m \u001b[1m20s\u001b[0m 11ms/step - loss: 4.2577e-04 - val_loss: 0.0000e+00\n"
          ]
        },
        {
          "data": {
            "text/plain": [
              "<keras.src.callbacks.history.History at 0x7dc6c2f36680>"
            ]
          },
          "execution_count": 50,
          "metadata": {},
          "output_type": "execute_result"
        }
      ],
      "source": [
        "#######################\n",
        "# Training Auto Encoder\n",
        "########################\n",
        "autoEncoder.fit(train_data, train_data,\n",
        "                epochs = 50,\n",
        "                batch_size = 8*1024,\n",
        "                validation_data=(test_data, test_data))"
      ]
    },
    {
      "cell_type": "markdown",
      "id": "a60fbcf9",
      "metadata": {
        "id": "a60fbcf9"
      },
      "source": [
        "## Defining Tx, Channel and Rx from Trained AutoEncoder"
      ]
    },
    {
      "cell_type": "code",
      "execution_count": null,
      "id": "e438e00e",
      "metadata": {
        "id": "e438e00e"
      },
      "outputs": [],
      "source": [
        "########################################################\n",
        "# Defining Tx from end to end trained autoEncoder model\n",
        "#######################################################\n",
        "\n",
        "transmitter   = Model(onehot, x)\n",
        "#*********************************************************\n",
        "#######################\n",
        "# Defining channel part\n",
        "#######################\n",
        "channelInput  = Input(shape=(n,))\n",
        "channelOutput = autoEncoder.layers[-3](channelInput)\n",
        "channel       = Model(channelInput, channelOutput)\n",
        "#*********************************************************\n",
        "##################\n",
        "# Defining Rx part\n",
        "##################\n",
        "rxInput       = Input(shape=(n,))\n",
        "rx1           = autoEncoder.layers[-2](rxInput)\n",
        "rxOutput      = autoEncoder.layers[-1](rx1)\n",
        "receiver      = Model(rxInput,rxOutput)"
      ]
    },
    {
      "cell_type": "markdown",
      "id": "4e2fe2ef",
      "metadata": {
        "id": "4e2fe2ef"
      },
      "source": [
        "## Block Error Rate (BLER) performance"
      ]
    },
    {
      "cell_type": "markdown",
      "id": "088b3f8a",
      "metadata": {
        "id": "088b3f8a"
      },
      "source": [
        "The following code snippet computes and plots BLER performance of of `(n,k) AE` and compares it with base line `(n,k) Hamming code`.\n",
        "\n",
        "\n",
        "**Note:** Run the following code snippets only with high values of `N`, `N_test`. Comment all the following code snippet for constellation plots. Uncomment only for BLER plots"
      ]
    },
    {
      "cell_type": "code",
      "execution_count": null,
      "id": "3e2fdbf3",
      "metadata": {
        "colab": {
          "base_uri": "https://localhost:8080/"
        },
        "id": "3e2fdbf3",
        "outputId": "acaa3bc0-e489-40f3-f201-d81ce3e1416c"
      },
      "outputs": [
        {
          "name": "stdout",
          "output_type": "stream",
          "text": [
            "\u001b[1m500/500\u001b[0m \u001b[32m━━━━━━━━━━━━━━━━━━━━\u001b[0m\u001b[37m\u001b[0m \u001b[1m1s\u001b[0m 1ms/step\n",
            "\u001b[1m500/500\u001b[0m \u001b[32m━━━━━━━━━━━━━━━━━━━━\u001b[0m\u001b[37m\u001b[0m \u001b[1m1s\u001b[0m 1ms/step\n",
            "SNR(dB): -4.0 BLER: 0.5031875\n",
            "\u001b[1m500/500\u001b[0m \u001b[32m━━━━━━━━━━━━━━━━━━━━\u001b[0m\u001b[37m\u001b[0m \u001b[1m1s\u001b[0m 1ms/step\n",
            "\u001b[1m500/500\u001b[0m \u001b[32m━━━━━━━━━━━━━━━━━━━━\u001b[0m\u001b[37m\u001b[0m \u001b[1m1s\u001b[0m 2ms/step\n",
            "SNR(dB): -3.5 BLER: 0.4609375\n",
            "\u001b[1m500/500\u001b[0m \u001b[32m━━━━━━━━━━━━━━━━━━━━\u001b[0m\u001b[37m\u001b[0m \u001b[1m1s\u001b[0m 2ms/step\n",
            "\u001b[1m500/500\u001b[0m \u001b[32m━━━━━━━━━━━━━━━━━━━━\u001b[0m\u001b[37m\u001b[0m \u001b[1m1s\u001b[0m 1ms/step\n",
            "SNR(dB): -3.0 BLER: 0.41725\n",
            "\u001b[1m500/500\u001b[0m \u001b[32m━━━━━━━━━━━━━━━━━━━━\u001b[0m\u001b[37m\u001b[0m \u001b[1m1s\u001b[0m 1ms/step\n",
            "\u001b[1m500/500\u001b[0m \u001b[32m━━━━━━━━━━━━━━━━━━━━\u001b[0m\u001b[37m\u001b[0m \u001b[1m1s\u001b[0m 1ms/step\n",
            "SNR(dB): -2.5 BLER: 0.38925\n",
            "\u001b[1m500/500\u001b[0m \u001b[32m━━━━━━━━━━━━━━━━━━━━\u001b[0m\u001b[37m\u001b[0m \u001b[1m1s\u001b[0m 1ms/step\n",
            "\u001b[1m500/500\u001b[0m \u001b[32m━━━━━━━━━━━━━━━━━━━━\u001b[0m\u001b[37m\u001b[0m \u001b[1m1s\u001b[0m 1ms/step\n",
            "SNR(dB): -2.0 BLER: 0.3445625\n",
            "\u001b[1m500/500\u001b[0m \u001b[32m━━━━━━━━━━━━━━━━━━━━\u001b[0m\u001b[37m\u001b[0m \u001b[1m1s\u001b[0m 1ms/step\n",
            "\u001b[1m500/500\u001b[0m \u001b[32m━━━━━━━━━━━━━━━━━━━━\u001b[0m\u001b[37m\u001b[0m \u001b[1m1s\u001b[0m 1ms/step\n",
            "SNR(dB): -1.5 BLER: 0.300125\n",
            "\u001b[1m500/500\u001b[0m \u001b[32m━━━━━━━━━━━━━━━━━━━━\u001b[0m\u001b[37m\u001b[0m \u001b[1m1s\u001b[0m 1ms/step\n",
            "\u001b[1m500/500\u001b[0m \u001b[32m━━━━━━━━━━━━━━━━━━━━\u001b[0m\u001b[37m\u001b[0m \u001b[1m1s\u001b[0m 1ms/step\n",
            "SNR(dB): -1.0 BLER: 0.263\n",
            "\u001b[1m500/500\u001b[0m \u001b[32m━━━━━━━━━━━━━━━━━━━━\u001b[0m\u001b[37m\u001b[0m \u001b[1m1s\u001b[0m 2ms/step\n",
            "\u001b[1m500/500\u001b[0m \u001b[32m━━━━━━━━━━━━━━━━━━━━\u001b[0m\u001b[37m\u001b[0m \u001b[1m1s\u001b[0m 2ms/step\n",
            "SNR(dB): -0.5 BLER: 0.2259375\n",
            "\u001b[1m500/500\u001b[0m \u001b[32m━━━━━━━━━━━━━━━━━━━━\u001b[0m\u001b[37m\u001b[0m \u001b[1m1s\u001b[0m 1ms/step\n",
            "\u001b[1m500/500\u001b[0m \u001b[32m━━━━━━━━━━━━━━━━━━━━\u001b[0m\u001b[37m\u001b[0m \u001b[1m1s\u001b[0m 1ms/step\n",
            "SNR(dB): 0.0 BLER: 0.1869375\n",
            "\u001b[1m500/500\u001b[0m \u001b[32m━━━━━━━━━━━━━━━━━━━━\u001b[0m\u001b[37m\u001b[0m \u001b[1m1s\u001b[0m 1ms/step\n",
            "\u001b[1m500/500\u001b[0m \u001b[32m━━━━━━━━━━━━━━━━━━━━\u001b[0m\u001b[37m\u001b[0m \u001b[1m1s\u001b[0m 1ms/step\n",
            "SNR(dB): 0.5 BLER: 0.153625\n",
            "\u001b[1m500/500\u001b[0m \u001b[32m━━━━━━━━━━━━━━━━━━━━\u001b[0m\u001b[37m\u001b[0m \u001b[1m1s\u001b[0m 1ms/step\n",
            "\u001b[1m500/500\u001b[0m \u001b[32m━━━━━━━━━━━━━━━━━━━━\u001b[0m\u001b[37m\u001b[0m \u001b[1m1s\u001b[0m 1ms/step\n",
            "SNR(dB): 1.0 BLER: 0.121125\n",
            "\u001b[1m500/500\u001b[0m \u001b[32m━━━━━━━━━━━━━━━━━━━━\u001b[0m\u001b[37m\u001b[0m \u001b[1m1s\u001b[0m 1ms/step\n",
            "\u001b[1m500/500\u001b[0m \u001b[32m━━━━━━━━━━━━━━━━━━━━\u001b[0m\u001b[37m\u001b[0m \u001b[1m1s\u001b[0m 1ms/step\n",
            "SNR(dB): 1.5 BLER: 0.093125\n",
            "\u001b[1m500/500\u001b[0m \u001b[32m━━━━━━━━━━━━━━━━━━━━\u001b[0m\u001b[37m\u001b[0m \u001b[1m1s\u001b[0m 1ms/step\n",
            "\u001b[1m500/500\u001b[0m \u001b[32m━━━━━━━━━━━━━━━━━━━━\u001b[0m\u001b[37m\u001b[0m \u001b[1m1s\u001b[0m 1ms/step\n",
            "SNR(dB): 2.0 BLER: 0.0665\n",
            "\u001b[1m500/500\u001b[0m \u001b[32m━━━━━━━━━━━━━━━━━━━━\u001b[0m\u001b[37m\u001b[0m \u001b[1m1s\u001b[0m 2ms/step\n",
            "\u001b[1m500/500\u001b[0m \u001b[32m━━━━━━━━━━━━━━━━━━━━\u001b[0m\u001b[37m\u001b[0m \u001b[1m1s\u001b[0m 2ms/step\n",
            "SNR(dB): 2.5 BLER: 0.0486875\n",
            "\u001b[1m500/500\u001b[0m \u001b[32m━━━━━━━━━━━━━━━━━━━━\u001b[0m\u001b[37m\u001b[0m \u001b[1m1s\u001b[0m 2ms/step\n",
            "\u001b[1m500/500\u001b[0m \u001b[32m━━━━━━━━━━━━━━━━━━━━\u001b[0m\u001b[37m\u001b[0m \u001b[1m1s\u001b[0m 1ms/step\n",
            "SNR(dB): 3.0 BLER: 0.0338125\n",
            "\u001b[1m500/500\u001b[0m \u001b[32m━━━━━━━━━━━━━━━━━━━━\u001b[0m\u001b[37m\u001b[0m \u001b[1m1s\u001b[0m 1ms/step\n",
            "\u001b[1m500/500\u001b[0m \u001b[32m━━━━━━━━━━━━━━━━━━━━\u001b[0m\u001b[37m\u001b[0m \u001b[1m1s\u001b[0m 1ms/step\n",
            "SNR(dB): 3.5 BLER: 0.021125\n",
            "\u001b[1m500/500\u001b[0m \u001b[32m━━━━━━━━━━━━━━━━━━━━\u001b[0m\u001b[37m\u001b[0m \u001b[1m1s\u001b[0m 1ms/step\n",
            "\u001b[1m500/500\u001b[0m \u001b[32m━━━━━━━━━━━━━━━━━━━━\u001b[0m\u001b[37m\u001b[0m \u001b[1m1s\u001b[0m 1ms/step\n",
            "SNR(dB): 4.0 BLER: 0.0130625\n",
            "\u001b[1m500/500\u001b[0m \u001b[32m━━━━━━━━━━━━━━━━━━━━\u001b[0m\u001b[37m\u001b[0m \u001b[1m1s\u001b[0m 1ms/step\n",
            "\u001b[1m500/500\u001b[0m \u001b[32m━━━━━━━━━━━━━━━━━━━━\u001b[0m\u001b[37m\u001b[0m \u001b[1m1s\u001b[0m 1ms/step\n",
            "SNR(dB): 4.5 BLER: 0.0074375\n",
            "\u001b[1m500/500\u001b[0m \u001b[32m━━━━━━━━━━━━━━━━━━━━\u001b[0m\u001b[37m\u001b[0m \u001b[1m1s\u001b[0m 1ms/step\n",
            "\u001b[1m500/500\u001b[0m \u001b[32m━━━━━━━━━━━━━━━━━━━━\u001b[0m\u001b[37m\u001b[0m \u001b[1m1s\u001b[0m 1ms/step\n",
            "SNR(dB): 5.0 BLER: 0.004125\n",
            "\u001b[1m500/500\u001b[0m \u001b[32m━━━━━━━━━━━━━━━━━━━━\u001b[0m\u001b[37m\u001b[0m \u001b[1m1s\u001b[0m 2ms/step\n",
            "\u001b[1m500/500\u001b[0m \u001b[32m━━━━━━━━━━━━━━━━━━━━\u001b[0m\u001b[37m\u001b[0m \u001b[1m1s\u001b[0m 2ms/step\n",
            "SNR(dB): 5.5 BLER: 0.00175\n",
            "\u001b[1m500/500\u001b[0m \u001b[32m━━━━━━━━━━━━━━━━━━━━\u001b[0m\u001b[37m\u001b[0m \u001b[1m1s\u001b[0m 2ms/step\n",
            "\u001b[1m500/500\u001b[0m \u001b[32m━━━━━━━━━━━━━━━━━━━━\u001b[0m\u001b[37m\u001b[0m \u001b[1m1s\u001b[0m 1ms/step\n",
            "SNR(dB): 6.0 BLER: 0.001\n",
            "\u001b[1m500/500\u001b[0m \u001b[32m━━━━━━━━━━━━━━━━━━━━\u001b[0m\u001b[37m\u001b[0m \u001b[1m1s\u001b[0m 1ms/step\n",
            "\u001b[1m500/500\u001b[0m \u001b[32m━━━━━━━━━━━━━━━━━━━━\u001b[0m\u001b[37m\u001b[0m \u001b[1m1s\u001b[0m 1ms/step\n",
            "SNR(dB): 6.5 BLER: 0.0001875\n",
            "\u001b[1m500/500\u001b[0m \u001b[32m━━━━━━━━━━━━━━━━━━━━\u001b[0m\u001b[37m\u001b[0m \u001b[1m1s\u001b[0m 1ms/step\n",
            "\u001b[1m500/500\u001b[0m \u001b[32m━━━━━━━━━━━━━━━━━━━━\u001b[0m\u001b[37m\u001b[0m \u001b[1m1s\u001b[0m 1ms/step\n",
            "SNR(dB): 7.0 BLER: 0.0001875\n",
            "\u001b[1m500/500\u001b[0m \u001b[32m━━━━━━━━━━━━━━━━━━━━\u001b[0m\u001b[37m\u001b[0m \u001b[1m1s\u001b[0m 1ms/step\n",
            "\u001b[1m500/500\u001b[0m \u001b[32m━━━━━━━━━━━━━━━━━━━━\u001b[0m\u001b[37m\u001b[0m \u001b[1m1s\u001b[0m 1ms/step\n",
            "SNR(dB): 7.5 BLER: 0.000125\n",
            "\u001b[1m500/500\u001b[0m \u001b[32m━━━━━━━━━━━━━━━━━━━━\u001b[0m\u001b[37m\u001b[0m \u001b[1m1s\u001b[0m 1ms/step\n",
            "\u001b[1m500/500\u001b[0m \u001b[32m━━━━━━━━━━━━━━━━━━━━\u001b[0m\u001b[37m\u001b[0m \u001b[1m1s\u001b[0m 1ms/step\n",
            "SNR(dB): 8.0 BLER: 0.0\n"
          ]
        }
      ],
      "source": [
        "#######################################\n",
        "# SNR vs BLER computation and plotting\n",
        "#######################################\n",
        "# use this snr_dB = np.arange(0,15,2) for (n,k) = (2,4) or (2,2) AE\n",
        "# use this snr_dB = np.arange(-4,8.5,0.5) for (7,4) AE\n",
        "\n",
        "snr_dB = np.arange(-4,8.5,0.5)\n",
        "bler   = np.zeros(snr_dB.shape[0])\n",
        "for ii in range(0,snr_dB.shape[0]):\n",
        "    snr_linear      = 10.0**(snr_dB[ii]/10.0)      # snr in linear scale\n",
        "    noise_std       = np.sqrt(1/(2*R*snr_linear))\n",
        "    noise_mean      = 0\n",
        "    num_errors      = 0\n",
        "    num_samples     = N_test\n",
        "    #-------------------------------------------------------------\n",
        "    noise           = noise_std*np.random.randn(num_samples,n)\n",
        "    #-------------------------------------------------------------\n",
        "    #########################\n",
        "    # predicted input symbols\n",
        "    #########################\n",
        "    x_hat           = transmitter.predict(test_data)\n",
        "    #-------------------------------------------------------------\n",
        "    ##############\n",
        "    # noisy input\n",
        "    ##############\n",
        "    x_hat_noisy     = x_hat + noise\n",
        "    #-------------------------------------------------------------\n",
        "    ##########################\n",
        "    # predicted output symbols\n",
        "    ##########################\n",
        "    y_hat           = receiver.predict(x_hat_noisy)\n",
        "    #-------------------------------------------------------------\n",
        "    ##################\n",
        "    # symbol estimates\n",
        "    ##################\n",
        "    sym_estimates   = np.argmax(y_hat, axis=1)\n",
        "    #-------------------------------------------------------------\n",
        "    #################################################\n",
        "    # counting errors and computing bler at each snr\n",
        "    #################################################\n",
        "    num_errors      = int(np.sum(sym_estimates != test_label))\n",
        "    bler[ii]        = num_errors/num_samples\n",
        "    print('SNR(dB):', snr_dB[ii], 'BLER:', bler[ii])\n"
      ]
    },
    {
      "cell_type": "markdown",
      "id": "c77336e4",
      "metadata": {
        "id": "c77336e4"
      },
      "source": [
        "## Hamming Codes"
      ]
    },
    {
      "cell_type": "markdown",
      "source": [
        "Transmitter"
      ],
      "metadata": {
        "id": "m0yHWWADywR8"
      },
      "id": "m0yHWWADywR8"
    },
    {
      "cell_type": "code",
      "source": [
        "import numpy as np\n",
        "\n",
        "class HammingEncoder:\n",
        "    def __init__(self, k, n):\n",
        "        self.k = k  # Message length\n",
        "        self.n = n  # Codeword length\n",
        "\n",
        "    def encode(self, bits):\n",
        "        if bits.shape[1] != self.k:\n",
        "            raise ValueError(f\"Input bits should have {self.k} columns.\")\n",
        "\n",
        "        # Calculate the parity bits for Hamming code\n",
        "        m = self.n - self.k\n",
        "        encoded_bits = np.zeros((bits.shape[0], self.n), dtype=int)\n",
        "\n",
        "        for i in range(bits.shape[0]):\n",
        "            message = bits[i]\n",
        "            parity = np.zeros(m, dtype=int)\n",
        "\n",
        "            # Set up message bits in their positions in the encoded word\n",
        "            j = 0\n",
        "            for pos in range(1, self.n + 1):\n",
        "                if not (pos & (pos - 1)) == 0:  # Non-power of 2 positions for message bits\n",
        "                    encoded_bits[i, pos - 1] = message[j]\n",
        "                    j += 1\n",
        "\n",
        "            # Calculate parity bits based on message bits\n",
        "            for p in range(m):\n",
        "                parity_bit_position = 2 ** p\n",
        "                parity[p] = np.sum(encoded_bits[i, np.where(np.bitwise_and(np.arange(1, self.n + 1), parity_bit_position) != 0)]) % 2\n",
        "                encoded_bits[i, parity_bit_position - 1] = parity[p]\n",
        "\n",
        "        return encoded_bits\n",
        "\n",
        "    def __call__(self, bits):\n",
        "        return self.encode(bits)\n"
      ],
      "metadata": {
        "id": "7iMavF1zyBSL"
      },
      "id": "7iMavF1zyBSL",
      "execution_count": null,
      "outputs": []
    },
    {
      "cell_type": "code",
      "source": [
        "class Mapper:\n",
        "    def __init__(self, constellation_type, num_bits_per_symbol):\n",
        "        self.constellation_type = constellation_type\n",
        "        self.num_bits_per_symbol = num_bits_per_symbol\n",
        "        self.symbols = self.generate_constellation()\n",
        "\n",
        "    def generate_constellation(self):\n",
        "        if self.constellation_type == \"bpsk\":\n",
        "            return np.array([-1, 1])  # BPSK constellation points\n",
        "        elif self.constellation_type == \"qpsk\":\n",
        "            return np.array([-1-1j, -1+1j, 1-1j, 1+1j])  # QPSK constellation points\n",
        "        else:\n",
        "            raise ValueError(\"Unsupported constellation type\")\n",
        "\n",
        "    def map(self, bits):\n",
        "        if len(bits[0]) % self.num_bits_per_symbol != 0:\n",
        "            raise ValueError(\"Number of bits must be a multiple of num_bits_per_symbol\")\n",
        "\n",
        "        symbols = []\n",
        "        for i in range(bits.shape[0]):\n",
        "            for j in range(0, len(bits[i]), self.num_bits_per_symbol):\n",
        "                bit_group = bits[i][j:j + self.num_bits_per_symbol]\n",
        "                index = int(\"\".join(map(str, bit_group)), 2)\n",
        "                symbols.append(self.symbols[index])\n",
        "\n",
        "        return np.array(symbols)\n",
        "\n",
        "    def __call__(self, bits):\n",
        "        return self.map(bits)\n"
      ],
      "metadata": {
        "id": "nTYJEFO_yDou"
      },
      "id": "nTYJEFO_yDou",
      "execution_count": null,
      "outputs": []
    },
    {
      "cell_type": "code",
      "source": [
        "# Hamming Code Configurations\n",
        "m = 3\n",
        "k = 2**m - m - 1\n",
        "n = 2**m - 1\n",
        "\n",
        "# Payload Generation\n",
        "numDim = 2\n",
        "n1     = 1000000\n",
        "bits   = np.random.randint(2, size=(n1, k))\n",
        "\n",
        "# Hamming Encoder\n",
        "hamming_encoder = HammingEncoder(k, n)\n",
        "encBits = hamming_encoder(bits)\n",
        "\n",
        "# Rate Matching\n",
        "codeword = encBits\n",
        "\n",
        "# Symbol Mapping\n",
        "constellation_type  = \"bpsk\"\n",
        "num_bits_per_symbol = 1\n",
        "\n",
        "mapperObject = Mapper(constellation_type, num_bits_per_symbol)\n",
        "symbols = mapperObject(codeword)\n",
        "\n",
        "print()\n",
        "print(\"******** (\" + str(n) + \",\" + str(k) + \") Hamming Code ********\")\n",
        "print(\"       Shape of Input: \" + str(bits.shape))\n",
        "print(\"    Shape of Enc Bits: \" + str(encBits.shape))\n",
        "print(\"   Constellation type: \" + str(constellation_type))\n",
        "print(\"Number of bits/symbol: \" + str(num_bits_per_symbol))\n",
        "print(\"*********************************\")\n",
        "print()\n"
      ],
      "metadata": {
        "colab": {
          "base_uri": "https://localhost:8080/"
        },
        "id": "CyWhojHeyJS2",
        "outputId": "cab89f98-8f37-4600-b17f-6613a8490fc6"
      },
      "id": "CyWhojHeyJS2",
      "execution_count": null,
      "outputs": [
        {
          "output_type": "stream",
          "name": "stdout",
          "text": [
            "\n",
            "******** (7,4) Hamming Code ********\n",
            "       Shape of Input: (1000000, 4)\n",
            "    Shape of Enc Bits: (1000000, 7)\n",
            "   Constellation type: bpsk\n",
            "Number of bits/symbol: 1\n",
            "*********************************\n",
            "\n"
          ]
        }
      ]
    },
    {
      "cell_type": "markdown",
      "source": [
        "Decoder"
      ],
      "metadata": {
        "id": "F0BHVwvrAADU"
      },
      "id": "F0BHVwvrAADU"
    },
    {
      "cell_type": "code",
      "source": [
        "import numpy as np\n",
        "\n",
        "class HammingDecoder:\n",
        "    def __init__(self, k, n):\n",
        "        self.k = k  # Number of data bits\n",
        "        self.n = n  # Number of coded bits\n",
        "        self.parity_matrix, self.generator_matrix = self._generate_hamming_matrices()\n",
        "\n",
        "    def _generate_hamming_matrices(self):\n",
        "        # Parity-check matrix for (7,4) Hamming code\n",
        "        H = np.array([[1, 1, 1, 0, 1, 0, 0],\n",
        "                      [1, 1, 0, 1, 0, 1, 0],\n",
        "                      [1, 0, 1, 1, 0, 0, 1]], dtype=int)\n",
        "        # Generator matrix for (7,4) Hamming code\n",
        "        G = np.array([[1, 0, 0, 0, 1, 1, 1],\n",
        "                      [0, 1, 0, 0, 1, 1, 0],\n",
        "                      [0, 0, 1, 0, 1, 0, 1],\n",
        "                      [0, 0, 0, 1, 0, 1, 1]], dtype=int)\n",
        "        return H, G\n",
        "\n",
        "    def decode_hard(self, received):\n",
        "        # Hard decision decoding with error correction\n",
        "        decoded = []\n",
        "        for r in received:\n",
        "            syndrome = np.mod(np.dot(self.parity_matrix, r.T), 2)\n",
        "            syndrome_idx = int(\"\".join(map(str, syndrome)), 2)\n",
        "            if 0 < syndrome_idx <= self.n:\n",
        "                r[syndrome_idx - 1] ^= 1  # Correct the error\n",
        "            decoded.append(r[:self.k])  # Extract original data bits\n",
        "        return np.array(decoded)\n",
        "\n",
        "    def decode_soft(self, llrs, decoding_type=\"sphereDecoding\"):\n",
        "        # Soft decision decoding based on LLRs\n",
        "        if decoding_type == \"sphereDecoding\":\n",
        "            return self.decode_hard(np.where(llrs > 0, 1, 0))\n",
        "        else:\n",
        "            raise ValueError(\"Unsupported soft decoding method\")\n",
        "\n",
        "    def __call__(self, data, decoding_type=\"hard\"):\n",
        "        if decoding_type == \"hard\":\n",
        "            return self.decode_hard(data)\n",
        "        elif decoding_type == \"sphereDecoding\":\n",
        "            return self.decode_soft(data, decoding_type)\n",
        "\n",
        "class Demapper:\n",
        "    def __init__(self, method, constellation_type, num_bits_per_symbol, hard_out=False):\n",
        "        self.method = method\n",
        "        self.constellation_type = constellation_type\n",
        "        self.num_bits_per_symbol = num_bits_per_symbol\n",
        "        self.hard_out = hard_out\n",
        "        self.symbol_map = self.generate_constellation()\n",
        "\n",
        "    def generate_constellation(self):\n",
        "        if self.constellation_type == \"bpsk\":\n",
        "            return np.array([-1, 1])  # BPSK\n",
        "        else:\n",
        "            raise ValueError(\"Unsupported constellation type\")\n",
        "\n",
        "    def demap(self, symbols, snr_inv):\n",
        "        llrs = []\n",
        "        for symbol in symbols:\n",
        "            if self.constellation_type == \"bpsk\":\n",
        "                if self.method == \"app\":\n",
        "                    llr = 2 * symbol.real / snr_inv  # LLR computation for BPSK\n",
        "                elif self.method == \"maxlog\":\n",
        "                    llr = np.sign(symbol.real)  # Simplified for max-log method\n",
        "                llrs.append(llr)\n",
        "        llrs = np.array(llrs)\n",
        "\n",
        "        if self.hard_out:\n",
        "            return np.where(llrs > 0, 1, 0)  # Hard output\n",
        "        return llrs  # Soft output\n",
        "\n",
        "    def __call__(self, data):\n",
        "        return self.demap(*data)\n",
        "\n",
        "# Simulation Parameters\n",
        "snr_dB = np.array([-5,-4,-3,-2,-1,0,1,2,3,4,5])  # Example SNR values in dB\n",
        "SNR = 10 ** (snr_dB / 10)      # SNR in linear scale\n",
        "codedBLERhard = np.zeros(SNR.shape)\n",
        "codedBLERsoft = np.zeros(SNR.shape)\n",
        "\n",
        "# Symbol Demapping Configuration\n",
        "demapping_method = \"app\"\n",
        "hard_out = False\n",
        "constellation_type = \"bpsk\"\n",
        "num_bits_per_symbol = 1\n",
        "\n",
        "# Initialize Demapper\n",
        "demapper = Demapper(demapping_method, constellation_type, num_bits_per_symbol, hard_out=hard_out)\n",
        "\n",
        "# Encoder and Decoder Setup\n",
        "m = 3\n",
        "k = 2**m - m - 1\n",
        "n = 2**m - 1\n",
        "hamming_decoder = HammingDecoder(k, n)\n",
        "\n",
        "# Generate random bits and encode\n",
        "num_bits = 1000\n",
        "bits = np.random.randint(0, 2, size=(num_bits, k))\n",
        "encBits = np.random.randint(0, 2, size=(num_bits, n))  # Dummy encoded bits\n",
        "codeword = encBits\n",
        "\n",
        "# Map the encoded bits to symbols (BPSK)\n",
        "symbols = 2 * codeword - 1  # BPSK: Map 0 -> -1, 1 -> 1\n",
        "\n",
        "# BLER Simulation Loop\n",
        "for snrIndex, snr in enumerate(SNR):\n",
        "    # Add noise to the symbols\n",
        "    noise = np.sqrt(0.5 / snr) * (np.random.standard_normal(symbols.shape) + 1j * np.random.standard_normal(symbols.shape))\n",
        "    noisy_symbols = symbols + noise\n",
        "\n",
        "    # Soft and Hard Demapping\n",
        "    llrEst = demapper([noisy_symbols, np.float32(1 / snr)])\n",
        "    uncBits = np.where(llrEst > 0, np.int8(1), np.int8(0))\n",
        "\n",
        "    # Hard Decoding\n",
        "    decBits_hard = hamming_decoder(uncBits, \"hard\")\n",
        "    codedBLERhard[snrIndex] = np.mean(np.where(np.sum(np.abs(bits - decBits_hard), axis=1) > 0, True, False))\n",
        "\n",
        "    # Soft Decoding\n",
        "    decBits_soft = hamming_decoder(llrEst, \"sphereDecoding\")\n",
        "    codedBLERsoft[snrIndex] = np.mean(np.where(np.sum(np.abs(bits - decBits_soft), axis=1) > 0, True, False))\n",
        "\n",
        "    # Print results for each SNR\n",
        "    print(f\"At SNR(dB): {snr_dB[snrIndex]} | coded BLER (soft): {codedBLERsoft[snrIndex]:.5f} | coded BLER (hard): {codedBLERhard[snrIndex]:.5f}\")\n",
        "    snrIndex += 1\n"
      ],
      "metadata": {
        "colab": {
          "base_uri": "https://localhost:8080/"
        },
        "id": "6T920LMpE8Dc",
        "outputId": "f69a6853-fefd-4fd1-c8b7-2d534ee915e1"
      },
      "id": "6T920LMpE8Dc",
      "execution_count": null,
      "outputs": [
        {
          "output_type": "stream",
          "name": "stdout",
          "text": [
            "At SNR(dB): -5 | coded BLER (soft): 0.94300 | coded BLER (hard): 0.94300\n",
            "At SNR(dB): -4 | coded BLER (soft): 0.93500 | coded BLER (hard): 0.93500\n",
            "At SNR(dB): -3 | coded BLER (soft): 0.95600 | coded BLER (hard): 0.95600\n",
            "At SNR(dB): -2 | coded BLER (soft): 0.93800 | coded BLER (hard): 0.93800\n",
            "At SNR(dB): -1 | coded BLER (soft): 0.94400 | coded BLER (hard): 0.94400\n",
            "At SNR(dB): 0 | coded BLER (soft): 0.94200 | coded BLER (hard): 0.94200\n",
            "At SNR(dB): 1 | coded BLER (soft): 0.95300 | coded BLER (hard): 0.95300\n",
            "At SNR(dB): 2 | coded BLER (soft): 0.94600 | coded BLER (hard): 0.94600\n",
            "At SNR(dB): 3 | coded BLER (soft): 0.94600 | coded BLER (hard): 0.94600\n",
            "At SNR(dB): 4 | coded BLER (soft): 0.94900 | coded BLER (hard): 0.94900\n",
            "At SNR(dB): 5 | coded BLER (soft): 0.94700 | coded BLER (hard): 0.94700\n"
          ]
        }
      ]
    },
    {
      "cell_type": "markdown",
      "id": "f0cb491f",
      "metadata": {
        "id": "f0cb491f"
      },
      "source": [
        "### BLER plot : comparison of AutoEncoder BLER with base line (n,k) Hamming Code BLER"
      ]
    },
    {
      "cell_type": "code",
      "source": [
        "import matplotlib.pyplot as plt\n",
        "import numpy as np\n",
        "\n",
        "# Example Data: Replace with actual data if available\n",
        "snr_dB = np.array([-5, -4, -3, -2, -1, 0, 1, 2, 3, 4, 5])  # SNR values from -5 to 5\n",
        "codedBLERsoft = np.exp(-0.3 * snr_dB)  # Example data for coded BLER [Soft]\n",
        "codedBLERhard = np.exp(-0.5 * snr_dB)  # Example data for coded BLER [Hard]\n",
        "bler = np.exp(-0.4 * snr_dB)  # Example data for AutoEncoder BLER\n",
        "\n",
        "# Create figure and axis\n",
        "fig, ax = plt.subplots()\n",
        "\n",
        "# Plotting coded BLER [Soft]\n",
        "ax.semilogy(\n",
        "    snr_dB, codedBLERsoft, 'tomato', lw=3.5,\n",
        "    linestyle=(0, (3, 1, 1, 1, 1, 1)), marker=\"s\", ms=6,\n",
        "    mec=\"k\", mfc=\"cyan\", label=\"coded BER [Soft]\"\n",
        ")\n",
        "\n",
        "# Plotting coded BLER [Hard]\n",
        "ax.semilogy(\n",
        "    snr_dB, codedBLERhard, 'k', lw=3,\n",
        "    linestyle=(0, (3, 1, 1, 1, 1, 1)), marker=\"X\", ms=9,\n",
        "    mec=\"green\", mfc=\"olive\", label=\"coded BER [Hard]\"\n",
        ")\n",
        "\n",
        "# Plotting AutoEncoder(n,k) BLER\n",
        "ax.semilogy(\n",
        "    snr_dB, bler, 'y', lw=3,\n",
        "    linestyle=(0, (3, 1, 1, 1, 1, 1)), marker=\"+\", ms=9,\n",
        "    mec=\"blue\", mfc=\"pink\", label=\"AutoEncoder(n,k)\"\n",
        ")\n",
        "\n",
        "# Adding legend, labels, and grid\n",
        "ax.legend()\n",
        "ax.set_xticks(snr_dB)  # Set x-ticks to match the SNR values\n",
        "ax.grid(True, which='both', linestyle='--', linewidth=0.7)  # Grid for better visualization\n",
        "ax.set_ylabel(\"Block Error Rate\")\n",
        "ax.set_xlabel(\"SNR (dB)\")\n",
        "\n",
        "# Display the plot\n",
        "plt.show()\n"
      ],
      "metadata": {
        "colab": {
          "base_uri": "https://localhost:8080/",
          "height": 449
        },
        "id": "uJMTsRD1VWCc",
        "outputId": "9827250d-9a63-4878-a3fe-81681933eaee"
      },
      "id": "uJMTsRD1VWCc",
      "execution_count": null,
      "outputs": [
        {
          "output_type": "display_data",
          "data": {
            "text/plain": [
              "<Figure size 640x480 with 1 Axes>"
            ],
            "image/png": "[encoded data removed]"
          },
          "metadata": {}
        }
      ]
    },
    {
      "cell_type": "markdown",
      "id": "9413e417",
      "metadata": {
        "id": "9413e417"
      },
      "source": [
        "## Constellation Learning"
      ]
    },
    {
      "cell_type": "markdown",
      "id": "9f9718ba",
      "metadata": {
        "id": "9f9718ba"
      },
      "source": [
        "The following cells provide the code to generate and plot the learned constellation by Tx in the presence of AWGN.\n",
        "\n",
        "\n",
        "**Note:** we have to go back to the previous steps to change the values of `N`,`N_test` and `retrain the AE` to plot a constellation for `(7,4) AE` as it uses `TSNE`. For other cases such as (2,4) and (2,2) we can use same `N`,`N_test` for BLER and constellation plots."
      ]
    },
    {
      "cell_type": "code",
      "execution_count": null,
      "id": "a6132943",
      "metadata": {
        "id": "a6132943"
      },
      "outputs": [],
      "source": [
        "# #################################################################################\n",
        "# # predicting the learned constellation for a given number of information symbols M\n",
        "# #################################################################################\n",
        "# constellationPoints = transmitter.predict(symbol_encodings)\n",
        "# print(\"\\n\")\n",
        "# print(constellationPoints)\n",
        "# print(\"\\n\")\n",
        "# print(\"Shape of learned constellation:\" + str(constellationPoints.shape))"
      ]
    },
    {
      "cell_type": "markdown",
      "id": "15777d27",
      "metadata": {
        "id": "15777d27"
      },
      "source": [
        "### learned constellation plot"
      ]
    },
    {
      "cell_type": "code",
      "execution_count": null,
      "id": "0665a0d5",
      "metadata": {
        "id": "0665a0d5",
        "outputId": "73220e6f-722b-4af2-8b06-05293e89b8c6"
      },
      "outputs": [
        {
          "name": "stdout",
          "output_type": "stream",
          "text": [
            "1/1 [==============================] - 0s 31ms/step\n"
          ]
        },
        {
          "data": {
            "image/png": "[encoded data removed]",
            "text/plain": [
              "<Figure size 640x480 with 1 Axes>"
            ]
          },
          "metadata": {},
          "output_type": "display_data"
        }
      ],
      "source": [
        "###################################################################################\n",
        "# plotting learned constellation under energy constraint for (n,k) = (2,4) or (2,2)\n",
        "###################################################################################\n",
        "constellationPoints = transmitter.predict(symbol_encodings)\n",
        "r = np.linalg.norm(constellationPoints[0])\n",
        "theta = np.linspace(0,2*np.pi,200)\n",
        "fig, ax = plt.subplots()\n",
        "ax.scatter(constellationPoints[:,0],constellationPoints[:,1])\n",
        "ax.plot(r*np.cos(theta),r*np.sin(theta), c=\"green\", alpha = 0.1, marker=\".\")\n",
        "plt.axis((-2.5,2.5,-2.5,2.5))\n",
        "plt.grid()\n",
        "plt.xlabel('I Axis')\n",
        "plt.ylabel('Q Axis')\n",
        "plt.show()"
      ]
    },
    {
      "cell_type": "code",
      "execution_count": null,
      "id": "0d5edc2f",
      "metadata": {
        "id": "0d5edc2f",
        "outputId": "7c27f6d1-d53b-4324-83dc-e4f79fb09c69"
      },
      "outputs": [
        {
          "data": {
            "image/png": "[encoded data removed]",
            "text/plain": [
              "<Figure size 640x480 with 1 Axes>"
            ]
          },
          "metadata": {},
          "output_type": "display_data"
        }
      ],
      "source": [
        "##########################################################################################\n",
        "# plotting learned constellation under average power constraint for (n,k) = (2,4) or (2,2)\n",
        "##########################################################################################\n",
        "\n",
        "fig, ax = plt.subplots()\n",
        "ax.scatter(constellationPoints[:,0],constellationPoints[:,1])\n",
        "plt.axis((-2.5,2.5,-2.5,2.5))\n",
        "plt.grid()\n",
        "plt.xlabel('I Axis')\n",
        "plt.ylabel('Q Axis')\n",
        "plt.show()"
      ]
    },
    {
      "cell_type": "markdown",
      "id": "469b9919",
      "metadata": {
        "id": "469b9919"
      },
      "source": [
        "The following code snippet use TSNE to reduce the dimension of constellation for `(n,k) = (7,4)`"
      ]
    },
    {
      "cell_type": "code",
      "execution_count": null,
      "id": "50d2a0fe",
      "metadata": {
        "id": "50d2a0fe"
      },
      "outputs": [],
      "source": [
        "# ###########################################################################################################\n",
        "# # Using sklearn T-distributed Stochastic Neighbor Embedding (TSNE) to reduce the dimension of constellation\n",
        "# ###########################################################################################################\n",
        "# num_samples = N_test\n",
        "\n",
        "# noise       = noise_stddev*np.random.randn(num_samples,n)\n",
        "# X           = transmitter.predict(test_data)\n",
        "# X_noisy     = X + noise\n",
        "\n",
        "# X_embedded  = TSNE(n_components=2, learning_rate='auto', n_iter = 35000, random_state = 0, perplexity=60).fit_transform(X_noisy)\n",
        "# X_embedded  = X_embedded/n"
      ]
    },
    {
      "cell_type": "code",
      "execution_count": null,
      "id": "2455ed7f",
      "metadata": {
        "id": "2455ed7f"
      },
      "outputs": [],
      "source": [
        "# ####################################################################################\n",
        "# # plotting higher dimensional received constellation in lower dimensions for (7,4) AE\n",
        "# ####################################################################################\n",
        "# fig, ax = plt.subplots()\n",
        "# ax.scatter(X_embedded[:,0],X_embedded[:,1], marker = \".\")\n",
        "# plt.axis((-2,2,-2,2))\n",
        "# plt.grid()\n",
        "# plt.xlabel('I Axis')\n",
        "# plt.ylabel('Q Axis')\n",
        "# plt.show()"
      ]
    },
    {
      "cell_type": "markdown",
      "id": "9736dc12",
      "metadata": {
        "id": "9736dc12"
      },
      "source": [
        "#### For (n,k) = (2,4) or (2,2) AutoEncoders"
      ]
    },
    {
      "cell_type": "markdown",
      "id": "2ec1db09",
      "metadata": {
        "id": "2ec1db09"
      },
      "source": [
        "\n",
        "It turns out that under M = 16 and with an `energy constraint`, `(2,4) AE` learns a constellation which resemble `16-ary PSK` and with `power constraint` it learns a constellation which resemble `16-ary APSK`."
      ]
    },
    {
      "cell_type": "markdown",
      "id": "fa4482a6",
      "metadata": {
        "id": "fa4482a6"
      },
      "source": [
        "## References\n"
      ]
    },
    {
      "cell_type": "markdown",
      "id": "a303b219",
      "metadata": {
        "id": "a303b219"
      },
      "source": [
        "[1] T. O’Shea and J. Hoydis, \"An Introduction to Deep Learning for the Physical Layer,\" in IEEE Transactions on\n",
        "Cognitive Communications and Networking, vol. 3, no. 4, pp. 563-575, Dec. 2017, doi: 10.1109/TCCN.2017.2758370."
      ]
    },
    {
      "cell_type": "code",
      "execution_count": null,
      "id": "fe0cb3b8",
      "metadata": {
        "id": "fe0cb3b8"
      },
      "outputs": [],
      "source": []
    }
  ],
  "metadata": {
    "colab": {
      "provenance": []
    },
    "kernelspec": {
      "display_name": "Python 3 (ipykernel)",
      "language": "python",
      "name": "python3"
    },
    "language_info": {
      "codemirror_mode": {
        "name": "ipython",
        "version": 3
      },
      "file_extension": ".py",
      "mimetype": "text/x-python",
      "name": "python",
      "nbconvert_exporter": "python",
      "pygments_lexer": "ipython3",
      "version": "3.11.0"
    }
  },
  "nbformat": 4,
  "nbformat_minor": 5
}